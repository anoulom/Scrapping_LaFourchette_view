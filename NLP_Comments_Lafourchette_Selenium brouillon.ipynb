{
 "cells": [
  {
   "cell_type": "markdown",
   "metadata": {},
   "source": [
    "# mettre un STOP et un SAVE"
   ]
  },
  {
   "cell_type": "code",
   "execution_count": null,
   "metadata": {},
   "outputs": [],
   "source": [
    "from selenium import webdriver\n",
    "from selenium.webdriver.common.keys import Keys\n",
    "from selenium.webdriver.common.action_chains import ActionChains\n",
    "\n",
    "\n",
    "browser = webdriver.Chrome()\n",
    "# browser = webdriver.Firefox(executable_path='C:/path/to/geckodriver.exe') au cas où geckdriver.exe n'est pas dans le path ni au même endroit\n",
    "browser.get('https://www.lafourchette.com/ville/paris/415144')\n"
   ]
  },
  {
   "cell_type": "code",
   "execution_count": 2,
   "metadata": {},
   "outputs": [],
   "source": [
    "browser.maximize_window()"
   ]
  },
  {
   "cell_type": "code",
   "execution_count": 286,
   "metadata": {},
   "outputs": [],
   "source": [
    "#taper \"indien\" dans la bar de recherche\n",
    "recherche = browser.find_element_by_xpath('//*[@role=\"textbox\"]')\n",
    "recherche.send_keys(\"indien\")"
   ]
  },
  {
   "cell_type": "code",
   "execution_count": 287,
   "metadata": {},
   "outputs": [],
   "source": [
    "#selectionner une date de reservation\n",
    "date = browser.find_element_by_xpath('//*[@id=\"la_fourchette_search_bar_form_type\"]/div[3]')\n",
    "date.click()"
   ]
  },
  {
   "cell_type": "code",
   "execution_count": 288,
   "metadata": {},
   "outputs": [],
   "source": [
    "#selectionner \"sans date précise\"\n",
    "sans_date = browser.find_element_by_xpath('//*[@id=\"la_fourchette_search_bar_form_type\"]/div[3]/div[2]/button')\n",
    "sans_date.click()\n",
    "#la recherche est lancée"
   ]
  },
  {
   "cell_type": "code",
   "execution_count": null,
   "metadata": {},
   "outputs": [],
   "source": []
  },
  {
   "cell_type": "code",
   "execution_count": null,
   "metadata": {},
   "outputs": [],
   "source": []
  },
  {
   "cell_type": "code",
   "execution_count": null,
   "metadata": {},
   "outputs": [],
   "source": []
  },
  {
   "cell_type": "code",
   "execution_count": 289,
   "metadata": {},
   "outputs": [
    {
     "data": {
      "text/plain": [
       "[<selenium.webdriver.remote.webelement.WebElement (session=\"998e54d8a71ae164af7dffe50f44ec95\", element=\"0.06282672136484879-1\")>,\n",
       " <selenium.webdriver.remote.webelement.WebElement (session=\"998e54d8a71ae164af7dffe50f44ec95\", element=\"0.06282672136484879-2\")>,\n",
       " <selenium.webdriver.remote.webelement.WebElement (session=\"998e54d8a71ae164af7dffe50f44ec95\", element=\"0.06282672136484879-3\")>,\n",
       " <selenium.webdriver.remote.webelement.WebElement (session=\"998e54d8a71ae164af7dffe50f44ec95\", element=\"0.06282672136484879-4\")>,\n",
       " <selenium.webdriver.remote.webelement.WebElement (session=\"998e54d8a71ae164af7dffe50f44ec95\", element=\"0.06282672136484879-5\")>,\n",
       " <selenium.webdriver.remote.webelement.WebElement (session=\"998e54d8a71ae164af7dffe50f44ec95\", element=\"0.06282672136484879-6\")>,\n",
       " <selenium.webdriver.remote.webelement.WebElement (session=\"998e54d8a71ae164af7dffe50f44ec95\", element=\"0.06282672136484879-7\")>,\n",
       " <selenium.webdriver.remote.webelement.WebElement (session=\"998e54d8a71ae164af7dffe50f44ec95\", element=\"0.06282672136484879-8\")>,\n",
       " <selenium.webdriver.remote.webelement.WebElement (session=\"998e54d8a71ae164af7dffe50f44ec95\", element=\"0.06282672136484879-9\")>,\n",
       " <selenium.webdriver.remote.webelement.WebElement (session=\"998e54d8a71ae164af7dffe50f44ec95\", element=\"0.06282672136484879-10\")>,\n",
       " <selenium.webdriver.remote.webelement.WebElement (session=\"998e54d8a71ae164af7dffe50f44ec95\", element=\"0.06282672136484879-11\")>,\n",
       " <selenium.webdriver.remote.webelement.WebElement (session=\"998e54d8a71ae164af7dffe50f44ec95\", element=\"0.06282672136484879-12\")>,\n",
       " <selenium.webdriver.remote.webelement.WebElement (session=\"998e54d8a71ae164af7dffe50f44ec95\", element=\"0.06282672136484879-13\")>,\n",
       " <selenium.webdriver.remote.webelement.WebElement (session=\"998e54d8a71ae164af7dffe50f44ec95\", element=\"0.06282672136484879-14\")>,\n",
       " <selenium.webdriver.remote.webelement.WebElement (session=\"998e54d8a71ae164af7dffe50f44ec95\", element=\"0.06282672136484879-15\")>,\n",
       " <selenium.webdriver.remote.webelement.WebElement (session=\"998e54d8a71ae164af7dffe50f44ec95\", element=\"0.06282672136484879-16\")>,\n",
       " <selenium.webdriver.remote.webelement.WebElement (session=\"998e54d8a71ae164af7dffe50f44ec95\", element=\"0.06282672136484879-17\")>,\n",
       " <selenium.webdriver.remote.webelement.WebElement (session=\"998e54d8a71ae164af7dffe50f44ec95\", element=\"0.06282672136484879-18\")>,\n",
       " <selenium.webdriver.remote.webelement.WebElement (session=\"998e54d8a71ae164af7dffe50f44ec95\", element=\"0.06282672136484879-19\")>,\n",
       " <selenium.webdriver.remote.webelement.WebElement (session=\"998e54d8a71ae164af7dffe50f44ec95\", element=\"0.06282672136484879-20\")>]"
      ]
     },
     "execution_count": 289,
     "metadata": {},
     "output_type": "execute_result"
    }
   ],
   "source": [
    "liste_indien = browser.find_elements_by_class_name('resultItem')\n",
    "liste_indien"
   ]
  },
  {
   "cell_type": "markdown",
   "metadata": {},
   "source": [
    "**Certains liens peuvent s'ouvrir sur de nouveaux onglets, ci-dessous les steps pour naviguer entre les onglets :**"
   ]
  },
  {
   "cell_type": "code",
   "execution_count": 290,
   "metadata": {},
   "outputs": [],
   "source": [
    "#cliquer sur le 1er element de la liste (index 0) qui va s'ouvrir sur un nouvel onglet\n",
    "liste_indien[0].click() "
   ]
  },
  {
   "cell_type": "code",
   "execution_count": 291,
   "metadata": {},
   "outputs": [],
   "source": [
    "#selectionne l'onglet grace l'index\n",
    "window_name = browser.window_handles[1] \n",
    "#switch vers l'onglet selectionné\n",
    "browser.switch_to.window(window_name=window_name)"
   ]
  },
  {
   "cell_type": "code",
   "execution_count": 292,
   "metadata": {},
   "outputs": [],
   "source": [
    "# je click sur les avis_LaFourchette\n",
    "avis_lafourchette = browser.find_element_by_xpath('//*[@id=\"restaurantContent\"]/div[1]/div[1]/div[2]/a')\n",
    "avis_lafourchette.click()\n"
   ]
  },
  {
   "cell_type": "markdown",
   "metadata": {},
   "source": [
    "#### piste 1 : faire deux listes (comments et rates)"
   ]
  },
  {
   "cell_type": "code",
   "execution_count": 112,
   "metadata": {},
   "outputs": [],
   "source": [
    "# listes vides pour stocker les commentaires et les notes\n",
    "comments_list = []\n",
    "rates_list =[]\n",
    "\n",
    "#puis construire le future dict avec ces deux listes"
   ]
  },
  {
   "cell_type": "code",
   "execution_count": 24,
   "metadata": {},
   "outputs": [
    {
     "data": {
      "text/plain": [
       "<selenium.webdriver.remote.webelement.WebElement (session=\"04746528dd207a9f592842e019908e4d\", element=\"0.007081750701869005-44\")>"
      ]
     },
     "execution_count": 24,
     "metadata": {},
     "output_type": "execute_result"
    }
   ],
   "source": [
    "# selectionner la boxe contenant les comments pour isoler les [notes commentaire] des [autres notes]\n",
    "boxe_list_comments = browser.find_element_by_css_selector('#reviews-list') #click droit > copy selector\n",
    "boxe_list_comments"
   ]
  },
  {
   "cell_type": "code",
   "execution_count": 108,
   "metadata": {},
   "outputs": [],
   "source": [
    "# prendre toutes les notes des commentaires de la boxe contenant les comments\n",
    "rates = boxe_list_comments.find_elements_by_css_selector('span.rating-ratingValue') \n",
    "for i in rates:\n",
    "    rates_list.append(i.text)"
   ]
  },
  {
   "cell_type": "code",
   "execution_count": null,
   "metadata": {},
   "outputs": [],
   "source": []
  },
  {
   "cell_type": "code",
   "execution_count": null,
   "metadata": {},
   "outputs": [],
   "source": []
  },
  {
   "cell_type": "code",
   "execution_count": null,
   "metadata": {},
   "outputs": [],
   "source": []
  },
  {
   "cell_type": "code",
   "execution_count": null,
   "metadata": {},
   "outputs": [],
   "source": []
  },
  {
   "cell_type": "code",
   "execution_count": null,
   "metadata": {},
   "outputs": [],
   "source": []
  },
  {
   "cell_type": "code",
   "execution_count": 332,
   "metadata": {},
   "outputs": [
    {
     "data": {
      "text/html": [
       "<div>\n",
       "<style scoped>\n",
       "    .dataframe tbody tr th:only-of-type {\n",
       "        vertical-align: middle;\n",
       "    }\n",
       "\n",
       "    .dataframe tbody tr th {\n",
       "        vertical-align: top;\n",
       "    }\n",
       "\n",
       "    .dataframe thead th {\n",
       "        text-align: right;\n",
       "    }\n",
       "</style>\n",
       "<table border=\"1\" class=\"dataframe\">\n",
       "  <thead>\n",
       "    <tr style=\"text-align: right;\">\n",
       "      <th></th>\n",
       "      <th>0</th>\n",
       "    </tr>\n",
       "  </thead>\n",
       "  <tbody>\n",
       "    <tr>\n",
       "      <th>0</th>\n",
       "      <td>NOTE MOYENNE\\n10 /10 CUISINE\\n10\\nSERVICE\\n10\\...</td>\n",
       "    </tr>\n",
       "    <tr>\n",
       "      <th>1</th>\n",
       "      <td>NOTE MOYENNE\\n10 /10 CUISINE\\n10\\nSERVICE\\n10\\...</td>\n",
       "    </tr>\n",
       "    <tr>\n",
       "      <th>2</th>\n",
       "      <td>NOTE MOYENNE\\n9 /10 CUISINE\\n8\\nSERVICE\\n10\\nC...</td>\n",
       "    </tr>\n",
       "    <tr>\n",
       "      <th>3</th>\n",
       "      <td>NOTE MOYENNE\\n10 /10 CUISINE\\n10\\nSERVICE\\n10\\...</td>\n",
       "    </tr>\n",
       "    <tr>\n",
       "      <th>4</th>\n",
       "      <td>NOTE MOYENNE\\n9 /10 CUISINE\\n10\\nSERVICE\\n10\\n...</td>\n",
       "    </tr>\n",
       "  </tbody>\n",
       "</table>\n",
       "</div>"
      ],
      "text/plain": [
       "                                                   0\n",
       "0  NOTE MOYENNE\\n10 /10 CUISINE\\n10\\nSERVICE\\n10\\...\n",
       "1  NOTE MOYENNE\\n10 /10 CUISINE\\n10\\nSERVICE\\n10\\...\n",
       "2  NOTE MOYENNE\\n9 /10 CUISINE\\n8\\nSERVICE\\n10\\nC...\n",
       "3  NOTE MOYENNE\\n10 /10 CUISINE\\n10\\nSERVICE\\n10\\...\n",
       "4  NOTE MOYENNE\\n9 /10 CUISINE\\n10\\nSERVICE\\n10\\n..."
      ]
     },
     "execution_count": 332,
     "metadata": {},
     "output_type": "execute_result"
    }
   ],
   "source": [
    "import numpy as np\n",
    "import pandas as pd\n",
    "\n",
    "comments = pd.DataFrame(boxe_comment_list)\n",
    "comments.head()"
   ]
  },
  {
   "cell_type": "code",
   "execution_count": null,
   "metadata": {},
   "outputs": [],
   "source": []
  },
  {
   "cell_type": "code",
   "execution_count": null,
   "metadata": {},
   "outputs": [],
   "source": []
  },
  {
   "cell_type": "code",
   "execution_count": null,
   "metadata": {},
   "outputs": [],
   "source": []
  },
  {
   "cell_type": "code",
   "execution_count": null,
   "metadata": {},
   "outputs": [],
   "source": []
  },
  {
   "cell_type": "code",
   "execution_count": null,
   "metadata": {},
   "outputs": [],
   "source": []
  },
  {
   "cell_type": "code",
   "execution_count": null,
   "metadata": {},
   "outputs": [],
   "source": []
  },
  {
   "cell_type": "code",
   "execution_count": 327,
   "metadata": {},
   "outputs": [],
   "source": [
    "# liste vide pour stocker les commentaires et les notes\n",
    "boxe_comment_list =[]"
   ]
  },
  {
   "cell_type": "code",
   "execution_count": 331,
   "metadata": {},
   "outputs": [
    {
     "data": {
      "text/plain": [
       "101"
      ]
     },
     "execution_count": 331,
     "metadata": {},
     "output_type": "execute_result"
    }
   ],
   "source": [
    "len(boxe_comment_list)"
   ]
  },
  {
   "cell_type": "markdown",
   "metadata": {},
   "source": [
    "#### boucle de navigation de page"
   ]
  },
  {
   "cell_type": "code",
   "execution_count": 330,
   "metadata": {},
   "outputs": [],
   "source": [
    "page = 0\n",
    "url_base = f'https://www.lafourchette.com/restaurant/royal-indien/9227#reviews&page={page}'\n",
    "\n",
    "i = 0\n",
    "\n",
    "while i < 5 :\n",
    "    page+=1\n",
    "    url_next = f'https://www.lafourchette.com/restaurant/royal-indien/9227#reviews&page={page}'    \n",
    "    browser.get(url_next)\n",
    "    browser.refresh()\n",
    "    \n",
    "\n",
    "    # selectionner la boxe contenant les comments pour isoler les [notes commentaire] des [autres notes]\n",
    "    boxe_list_comments = browser.find_element_by_css_selector('#reviews-list') #click droit > copy selector\n",
    "    \n",
    "    # prendre toutes les notes et commentaires de la boxe contenant les comments\n",
    "    boxe_comment = boxe_list_comments.find_elements_by_class_name('reviewItem-wrapper') # 21 éléments\n",
    "    for element in boxe_comment:\n",
    "        boxe_comment_list.append(element.text)\n",
    "    \n",
    "    i = i+1"
   ]
  },
  {
   "cell_type": "markdown",
   "metadata": {},
   "source": [
    "#### piste 2 : faire une seul liste contenant les notes et les commentaires"
   ]
  },
  {
   "cell_type": "code",
   "execution_count": 116,
   "metadata": {},
   "outputs": [],
   "source": [
    "# liste vide pour stocker les commentaires et les notes\n",
    "boxe_comment_list =[]"
   ]
  },
  {
   "cell_type": "code",
   "execution_count": 114,
   "metadata": {},
   "outputs": [
    {
     "data": {
      "text/plain": [
       "<selenium.webdriver.remote.webelement.WebElement (session=\"04746528dd207a9f592842e019908e4d\", element=\"0.007081750701869005-44\")>"
      ]
     },
     "execution_count": 114,
     "metadata": {},
     "output_type": "execute_result"
    }
   ],
   "source": [
    "# selectionner la boxe contenant les comments pour isoler les [notes commentaire] des [autres notes]\n",
    "boxe_list_comments = browser.find_element_by_css_selector('#reviews-list') #click droit > copy selector\n",
    "boxe_list_comments"
   ]
  },
  {
   "cell_type": "code",
   "execution_count": 117,
   "metadata": {},
   "outputs": [],
   "source": [
    "# prendre toutes les notes et commentaires de la boxe contenant les comments\n",
    "boxe_comment = boxe_list_comments.find_elements_by_class_name('reviewItem-wrapper') # 21 éléments\n",
    "for i in boxe_comment:\n",
    "    boxe_comment_list.append(i.text)\n",
    "    "
   ]
  },
  {
   "cell_type": "code",
   "execution_count": 122,
   "metadata": {},
   "outputs": [
    {
     "data": {
      "text/plain": [
       "(21,\n",
       " [\"NOTE MOYENNE\\n10 /10 CUISINE\\n10\\nSERVICE\\n10\\nCADRE\\n10\\nDate du repas : 16 juil. 2019\\nL'acceuil est excellent par LOWI. Très professionnel. Belle présentation des plats. Rapport qualité prix très intéressant. Un bon indien..\\nVOTER\",\n",
       "  'NOTE MOYENNE\\n10 /10 CUISINE\\n10\\nSERVICE\\n10\\nCADRE\\n10\\nDate du repas : 15 juil. 2019\\nUne belle découverte que ce petit restaurant indien dans une petite rue tranquille du 17ème ! Le décor simple et accueillant, le personnel extrêmement efficace et chaleureux et enfin une cuisine excellente ! On reviendra !\\nVOTER',\n",
       "  'NOTE MOYENNE\\n9 /10 CUISINE\\n8\\nSERVICE\\n10\\nCADRE\\n10\\nDate du repas : 14 juil. 2019\\nPersonnel très accueillant et soucieux de la satisfaction de ses clients. Qualité gustative au top, seule amélioration peut être que je proposerai : à mon goût, le poulet devrait être cuit légèrement plus.\\nMerci pour cette qualité de service. Je recommande !\\nVOTER',\n",
       "  'NOTE MOYENNE\\n10 /10 CUISINE\\n10\\nSERVICE\\n10\\nCADRE\\n10\\nDate du repas : 14 juil. 2019\\nc’était très bon et délicieux et le personnel est très gentil\\nVOTER',\n",
       "  'NOTE MOYENNE\\n9 /10 CUISINE\\n10\\nSERVICE\\n10\\nCADRE\\n6\\nDate du repas : 13 juil. 2019\\nTrès bonne cuisine et personnel très sympathique.\\nJe recommande.\\nVOTER',\n",
       "  'NOTE MOYENNE\\n10 /10 CUISINE\\n10\\nSERVICE\\n10\\nCADRE\\n10\\nDate du repas : 13 juil. 2019\\nAccueil chaleureux, et cuisine toujours aussi gourmande .\\nVOTER',\n",
       "  \"NOTE MOYENNE\\n10 /10 CUISINE\\n10\\nSERVICE\\n10\\nCADRE\\n10\\nDate du repas : 11 juil. 2019\\nRestaurant à recommander !service rapid Les plats sont raffinés et copieux, les saveurs exceptionnelles! Le cadre est agréable, le personnel d'une grande gentillesse. L'accueil est irréprochable, tout était parfait, nous reviendrons avec plaisir.\\nVOTER\",\n",
       "  \"NOTE MOYENNE\\n2 /10 CUISINE\\n2\\nSERVICE\\n2\\nCADRE\\n2\\nDate du repas : 10 juil. 2019\\nUne première visite,service trop trop ralenti, j'ai dû relancer plusieurs fois,\\nDes petits plats avec peu de quantité.\\nPetit restaurant et cuisine pas top comparant d'autres resto indien.\\nÀ fuir\\nRestaurant\\nNous vous remercions de partager votre expérience et sommes désolés de votre mécontentement.\\nNotre équipe fait toujours le maximum pour satisfaire nos clients.\\nVous avez commandé 3 plats alors que vous étiez 6 personnes - ce que nous avons accepté pour vous être agréable. Il est normal que vous ayez trouvé les quantités insuffisantes puisque chaque convive a eu une demi portion. La prochaine fois, commandez une portion par personne et vous pourrez apprécier nos plats savoureux et généreux.\\nVOTER\",\n",
       "  'Restaurant\\nNous vous remercions de partager votre expérience et sommes désolés de votre mécontentement.\\nNotre équipe fait toujours le maximum pour satisfaire nos clients.\\nVous avez commandé 3 plats alors que vous étiez 6 personnes - ce que nous avons accepté pour vous être agréable. Il est normal que vous ayez trouvé les quantités insuffisantes puisque chaque convive a eu une demi portion. La prochaine fois, commandez une portion par personne et vous pourrez apprécier nos plats savoureux et généreux.',\n",
       "  'NOTE MOYENNE\\n8 /10 CUISINE\\n8\\nSERVICE\\n8\\nCADRE\\n8\\nDate du repas : 9 juil. 2019\\nTrès bonne soirée, service très agréable et plats délicieux.\\nVOTER',\n",
       "  \"NOTE MOYENNE\\n8,5 /10 CUISINE\\n8\\nSERVICE\\n10\\nCADRE\\n8\\nDate du repas : 7 juil. 2019\\nquelques plats avec un peu trop d'huile, cependant les saveurs sont la, le service tres attentif, et les quantités sont généreuses !\\nVOTER\",\n",
       "  'NOTE MOYENNE\\n10 /10 CUISINE\\n10\\nSERVICE\\n10\\nCADRE\\n10\\nDate du repas : 5 juil. 2019\\nPlats excellents et bon vin le tout avec un service irréprochable et attentionné. 3eme visite dans ce restaurant et jamais déçu. Je recommande!\\nVOTER',\n",
       "  'NOTE MOYENNE\\n10 /10 CUISINE\\n10\\nSERVICE\\n10\\nCADRE\\n10\\nDate du repas : 5 juil. 2019\\nPersonnel attentionné et souriant. Mets indiens de qualité avec un rapport qualité/prix intéressant. Très bonne adresse.\\nVOTER',\n",
       "  'NOTE MOYENNE\\n9 /10 CUISINE\\n10\\nSERVICE\\n10\\nCADRE\\n6\\nDate du repas : 4 juil. 2019\\nUn excellent restaurant indien. Je le recommande.\\nVOTER',\n",
       "  'NOTE MOYENNE\\n8,5 /10 CUISINE\\n8\\nSERVICE\\n10\\nCADRE\\n8\\nDate du repas : 30 juin 2019\\nLa qualité de service de ce restaurant indien est excellente. Les serveurs sont très attentionnés et soucieux de leur clientèle. La nourriture est bonne et les prix abordables. Merci !\\nVOTER',\n",
       "  \"NOTE MOYENNE\\n10 /10 CUISINE\\n10\\nSERVICE\\n10\\nCADRE\\n10\\nDate du repas : 30 juin 2019\\nC'est la deuxième fois que nous y allons, et c'est très bien!\\nLe cadre est agréable, c'est le plus souvent calme et le personnel est très attentif à chaque client.\\nLes plats indiens sont d'un bon niveau. Si l'on aime ce type de restaurant, c'est une très bonne adresse.\\nLe rapport qualité/prix est intéressant avec une réduction.\\nVOTER\",\n",
       "  \"NOTE MOYENNE\\n8,5 /10 CUISINE\\n8\\nSERVICE\\n10\\nCADRE\\n8\\nDate du repas : 30 juin 2019\\nJ'ai trouvé que l'accueil était très bien, un bon équilibre entre la discrétion et l'attention.\\nUn peu de déception sur les entrés au niveau de la quantité des portions et des nans qui étaient un peu secs.\\nTrès bien au niveau des plats en particulier des biryanis.\\nVOTER\",\n",
       "  'NOTE MOYENNE\\n9 /10 CUISINE\\n10\\nSERVICE\\n8\\nCADRE\\n8\\nDate du repas : 28 juin 2019\\nCuisine délicieuse, parfumée et plats bien présentés, service prévenant et sympathique, dans un joli cadre coloré et une ambiance calme.\\nUn très agréable dîner estival !\\nVOTER',\n",
       "  'NOTE MOYENNE\\n10 /10 CUISINE\\n10\\nSERVICE\\n10\\nCADRE\\n10\\nDate du repas : 24 juin 2019\\nPlats excellents et service attentionné. Très bonne découverte.\\nSe distingue des autres indiens par une sauce à la mangue divine\\nVOTER',\n",
       "  'NOTE MOYENNE\\n10 /10 CUISINE\\n10\\nSERVICE\\n10\\nCADRE\\n10\\nDate du repas : 21 juin 2019\\nTout est parfait, nous y reviendrons avec grand plaisir ! :)\\nVOTER',\n",
       "  'NOTE MOYENNE\\n10 /10 CUISINE\\n10\\nSERVICE\\n10\\nCADRE\\n10\\nDate du repas : 18 juin 2019\\nTrès bon restaurant indien, des plats finement cuisinés et des serveurs adorables aux petits soins.\\nJe recommande vivement !!\\nVOTER'])"
      ]
     },
     "execution_count": 122,
     "metadata": {},
     "output_type": "execute_result"
    }
   ],
   "source": [
    "len(boxe_comment_list), boxe_comment_list"
   ]
  },
  {
   "cell_type": "code",
   "execution_count": null,
   "metadata": {},
   "outputs": [],
   "source": []
  },
  {
   "cell_type": "code",
   "execution_count": null,
   "metadata": {},
   "outputs": [],
   "source": []
  },
  {
   "cell_type": "code",
   "execution_count": null,
   "metadata": {},
   "outputs": [],
   "source": []
  },
  {
   "cell_type": "markdown",
   "metadata": {},
   "source": [
    "# brouillon de taf"
   ]
  },
  {
   "cell_type": "code",
   "execution_count": 40,
   "metadata": {},
   "outputs": [],
   "source": [
    "# prendre tout les 'reviewItem-customerComment' (class_name des commentaires) du browser \n",
    "\n",
    "# de la page 1 des avis\n",
    "comments = browser.find_elements_by_class_name('reviewItem-customerComment') \n",
    "for i in comments:\n",
    "    comments_list.append(i.text) \n",
    "    "
   ]
  },
  {
   "cell_type": "code",
   "execution_count": 142,
   "metadata": {},
   "outputs": [],
   "source": [
    "# je click sur les avis_LaFourchette page 2\n",
    "avis_lafourchettep2 = browser.find_element_by_xpath('//*[@id=\"reviews-list\"]/ul/li[2]')\n",
    "avis_lafourchettep2.click()"
   ]
  },
  {
   "cell_type": "code",
   "execution_count": 15,
   "metadata": {},
   "outputs": [],
   "source": [
    "# de la page 2 des avis\n",
    "comments = browser.find_elements_by_class_name('reviewItem-customerComment') \n",
    "for i in comments:\n",
    "    comments_list.append(i.text) \n"
   ]
  },
  {
   "cell_type": "code",
   "execution_count": 16,
   "metadata": {},
   "outputs": [],
   "source": [
    "# je click sur les avis_LaFourchette page 3\n",
    "avis_lafourchettep3 = browser.find_element_by_xpath('//*[@id=\"reviews-list\"]/ul/li[3]')\n",
    "avis_lafourchettep3.click()\n"
   ]
  },
  {
   "cell_type": "code",
   "execution_count": 17,
   "metadata": {},
   "outputs": [],
   "source": [
    "# de la page 3 des avis\n",
    "comments = browser.find_elements_by_class_name('reviewItem-customerComment') \n",
    "\n",
    "for i in comments:\n",
    "    comments_list.append(i.text) \n"
   ]
  },
  {
   "cell_type": "code",
   "execution_count": null,
   "metadata": {},
   "outputs": [],
   "source": []
  },
  {
   "cell_type": "code",
   "execution_count": null,
   "metadata": {},
   "outputs": [],
   "source": []
  },
  {
   "cell_type": "code",
   "execution_count": null,
   "metadata": {},
   "outputs": [],
   "source": []
  },
  {
   "cell_type": "code",
   "execution_count": null,
   "metadata": {},
   "outputs": [],
   "source": []
  },
  {
   "cell_type": "code",
   "execution_count": null,
   "metadata": {},
   "outputs": [],
   "source": [
    "# j'ai ma liste, mtn il faut que je change de page et automatise tout ca"
   ]
  },
  {
   "cell_type": "code",
   "execution_count": 23,
   "metadata": {},
   "outputs": [
    {
     "name": "stdout",
     "output_type": "stream",
     "text": [
      "Ma page n° 0\n",
      "Ma page n° 1\n",
      "Ma page n° 2\n",
      "Ma page n° 3\n",
      "Ma page n° 4\n",
      "Ma page n° 5\n",
      "Ma page n° 6\n",
      "Ma page n° 7\n",
      "Ma page n° 8\n",
      "Ma page n° 9\n"
     ]
    }
   ],
   "source": [
    "for i in range(10):\n",
    "    print(\"Ma page n° {}\".format(str(i)))"
   ]
  },
  {
   "cell_type": "code",
   "execution_count": 18,
   "metadata": {},
   "outputs": [
    {
     "name": "stdout",
     "output_type": "stream",
     "text": [
      "80\n"
     ]
    },
    {
     "data": {
      "text/plain": [
       "'Bel accueil. Service rapide. Personnel aimable et attentionné.'"
      ]
     },
     "execution_count": 18,
     "metadata": {},
     "output_type": "execute_result"
    }
   ],
   "source": [
    "# je click sur les avis_LaFourchette page suivante\n",
    "avis_lafourchettep3 = browser.find_element_by_xpath('//*[@id=\"reviews-list\"]/ul/li[4]')\n",
    "avis_lafourchettep3.click()\n",
    "\n",
    "import time\n",
    "time.sleep(7)\n",
    "\n",
    "comments = browser.find_elements_by_class_name('reviewItem-customerComment') \n",
    "\n",
    "for i in comments:\n",
    "    comments_list.append(i.text) \n",
    "    #print (comments_list)\n",
    "\n",
    "print (len(comments_list))\n",
    "comments_list[len(comments_list)-20] #juste pour vérifier si le scrap est bon"
   ]
  },
  {
   "cell_type": "code",
   "execution_count": 24,
   "metadata": {},
   "outputs": [
    {
     "data": {
      "text/html": [
       "<div>\n",
       "<style scoped>\n",
       "    .dataframe tbody tr th:only-of-type {\n",
       "        vertical-align: middle;\n",
       "    }\n",
       "\n",
       "    .dataframe tbody tr th {\n",
       "        vertical-align: top;\n",
       "    }\n",
       "\n",
       "    .dataframe thead th {\n",
       "        text-align: right;\n",
       "    }\n",
       "</style>\n",
       "<table border=\"1\" class=\"dataframe\">\n",
       "  <thead>\n",
       "    <tr style=\"text-align: right;\">\n",
       "      <th></th>\n",
       "      <th>0</th>\n",
       "    </tr>\n",
       "  </thead>\n",
       "  <tbody>\n",
       "    <tr>\n",
       "      <th>0</th>\n",
       "      <td>Une belle découverte que ce petit restaurant i...</td>\n",
       "    </tr>\n",
       "    <tr>\n",
       "      <th>1</th>\n",
       "      <td>Personnel très accueillant et soucieux de la s...</td>\n",
       "    </tr>\n",
       "    <tr>\n",
       "      <th>2</th>\n",
       "      <td>c’était très bon et délicieux et le personnel ...</td>\n",
       "    </tr>\n",
       "    <tr>\n",
       "      <th>3</th>\n",
       "      <td>Très bonne cuisine et personnel très sympathiq...</td>\n",
       "    </tr>\n",
       "    <tr>\n",
       "      <th>4</th>\n",
       "      <td>Restaurant à recommander !service rapid Les pl...</td>\n",
       "    </tr>\n",
       "  </tbody>\n",
       "</table>\n",
       "</div>"
      ],
      "text/plain": [
       "                                                   0\n",
       "0  Une belle découverte que ce petit restaurant i...\n",
       "1  Personnel très accueillant et soucieux de la s...\n",
       "2  c’était très bon et délicieux et le personnel ...\n",
       "3  Très bonne cuisine et personnel très sympathiq...\n",
       "4  Restaurant à recommander !service rapid Les pl..."
      ]
     },
     "execution_count": 24,
     "metadata": {},
     "output_type": "execute_result"
    }
   ],
   "source": [
    "import numpy as np\n",
    "import pandas as pd\n",
    "\n",
    "comments = pd.DataFrame(comments_list)\n",
    "comments.head()"
   ]
  },
  {
   "cell_type": "code",
   "execution_count": 219,
   "metadata": {},
   "outputs": [],
   "source": [
    "#ferme l'onglet actif\n",
    "browser.close()\n",
    "#revenir sur l'onglet initial d'index 0\n",
    "window_name = browser.window_handles[0] #je selectionne\n",
    "browser.switch_to.window(window_name=window_name) #je switch"
   ]
  },
  {
   "cell_type": "code",
   "execution_count": null,
   "metadata": {},
   "outputs": [],
   "source": []
  },
  {
   "cell_type": "code",
   "execution_count": null,
   "metadata": {},
   "outputs": [],
   "source": []
  },
  {
   "cell_type": "code",
   "execution_count": null,
   "metadata": {},
   "outputs": [],
   "source": []
  },
  {
   "cell_type": "code",
   "execution_count": null,
   "metadata": {},
   "outputs": [],
   "source": []
  },
  {
   "cell_type": "code",
   "execution_count": null,
   "metadata": {},
   "outputs": [],
   "source": []
  },
  {
   "cell_type": "code",
   "execution_count": null,
   "metadata": {},
   "outputs": [],
   "source": []
  },
  {
   "cell_type": "code",
   "execution_count": null,
   "metadata": {},
   "outputs": [],
   "source": []
  },
  {
   "cell_type": "code",
   "execution_count": null,
   "metadata": {},
   "outputs": [],
   "source": []
  },
  {
   "cell_type": "code",
   "execution_count": null,
   "metadata": {},
   "outputs": [],
   "source": []
  },
  {
   "cell_type": "code",
   "execution_count": null,
   "metadata": {},
   "outputs": [],
   "source": []
  },
  {
   "cell_type": "code",
   "execution_count": null,
   "metadata": {},
   "outputs": [],
   "source": []
  },
  {
   "cell_type": "code",
   "execution_count": null,
   "metadata": {},
   "outputs": [],
   "source": []
  },
  {
   "cell_type": "code",
   "execution_count": null,
   "metadata": {},
   "outputs": [],
   "source": []
  },
  {
   "cell_type": "code",
   "execution_count": null,
   "metadata": {},
   "outputs": [],
   "source": [
    "# je click sur les avis_LaFourchette page suivante\n",
    "\n",
    "for i in range(1,6):\n",
    "    avis_lafourchettep3 = browser.find_element_by_xpath('//*[@id=\"reviews-list\"]/ul/li[{}]'.format(str(i)))\n",
    "    avis_lafourchettep3.click()\n",
    "    \n",
    "avis_lafourchettep3 = browser.find_element_by_xpath('//*[@id=\"reviews-list\"]/ul/li[{}]'.format(str(i)))\n",
    "avis_lafourchettep3.click()\n",
    "\n",
    "import time\n",
    "time.sleep(7)\n",
    "\n",
    "comments = browser.find_elements_by_class_name('reviewItem-customerComment') \n",
    "\n",
    "for i in comments:\n",
    "    comments_list.append(i.text) \n",
    "    #print (comments_list)\n",
    "\n",
    "print (len(comments_list))\n",
    "comments_list[len(comments_list)-20] #juste pour vérifier si le scrap est bon"
   ]
  },
  {
   "cell_type": "code",
   "execution_count": null,
   "metadata": {},
   "outputs": [],
   "source": []
  },
  {
   "cell_type": "code",
   "execution_count": null,
   "metadata": {},
   "outputs": [],
   "source": []
  },
  {
   "cell_type": "code",
   "execution_count": null,
   "metadata": {},
   "outputs": [],
   "source": []
  },
  {
   "cell_type": "code",
   "execution_count": null,
   "metadata": {},
   "outputs": [],
   "source": []
  },
  {
   "cell_type": "code",
   "execution_count": null,
   "metadata": {},
   "outputs": [],
   "source": []
  },
  {
   "cell_type": "code",
   "execution_count": null,
   "metadata": {},
   "outputs": [],
   "source": []
  },
  {
   "cell_type": "code",
   "execution_count": null,
   "metadata": {},
   "outputs": [],
   "source": []
  },
  {
   "cell_type": "code",
   "execution_count": null,
   "metadata": {},
   "outputs": [],
   "source": []
  },
  {
   "cell_type": "code",
   "execution_count": null,
   "metadata": {},
   "outputs": [],
   "source": []
  },
  {
   "cell_type": "code",
   "execution_count": null,
   "metadata": {},
   "outputs": [],
   "source": []
  },
  {
   "cell_type": "code",
   "execution_count": null,
   "metadata": {},
   "outputs": [],
   "source": []
  },
  {
   "cell_type": "code",
   "execution_count": null,
   "metadata": {},
   "outputs": [],
   "source": []
  },
  {
   "cell_type": "code",
   "execution_count": null,
   "metadata": {},
   "outputs": [],
   "source": []
  },
  {
   "cell_type": "code",
   "execution_count": null,
   "metadata": {},
   "outputs": [],
   "source": []
  },
  {
   "cell_type": "code",
   "execution_count": null,
   "metadata": {},
   "outputs": [],
   "source": []
  },
  {
   "cell_type": "markdown",
   "metadata": {},
   "source": [
    "#### brouillon "
   ]
  },
  {
   "cell_type": "code",
   "execution_count": 8,
   "metadata": {},
   "outputs": [
    {
     "data": {
      "text/plain": [
       "'Restaurant Indien La Vallée du Kashmir\\n21 Rue des Prêtres Place dalton 62200 Boulogne-sur-Mer\\nINDIEN\\nPrix moyen 18 €\\n8,9 /10\\n39 avis'"
      ]
     },
     "execution_count": 8,
     "metadata": {},
     "output_type": "execute_result"
    }
   ],
   "source": [
    "#1er test, prend le texte du l'lélement 0 de la liste\n",
    "liste_indien[19].text"
   ]
  },
  {
   "cell_type": "markdown",
   "metadata": {},
   "source": [
    "**Certains liens peuvent s'ouvrir sur de nouveaux onglets, ci-dessous les steps pour naviguer entre les onglets :**"
   ]
  },
  {
   "cell_type": "code",
   "execution_count": 217,
   "metadata": {},
   "outputs": [],
   "source": [
    "#cliquer sur le 1er element de la liste (index 0) qui va s'ouvrir sur un nouvel onglet\n",
    "liste_indien[0].click() "
   ]
  },
  {
   "cell_type": "code",
   "execution_count": 218,
   "metadata": {},
   "outputs": [],
   "source": [
    "#selectionne l'onglet grace l'index\n",
    "window_name = browser.window_handles[1] \n",
    "#switch vers l'onglet selectionné\n",
    "browser.switch_to.window(window_name=window_name)"
   ]
  },
  {
   "cell_type": "code",
   "execution_count": 219,
   "metadata": {},
   "outputs": [],
   "source": [
    "#ferme l'onglet actif\n",
    "browser.close()\n",
    "#revenir sur l'onglet initial d'index 0\n",
    "window_name = browser.window_handles[0] #je selectionne\n",
    "browser.switch_to.window(window_name=window_name) #je switch"
   ]
  },
  {
   "cell_type": "markdown",
   "metadata": {},
   "source": [
    "**Sinon il suffit de faire un back() pour revenir en arrière :**"
   ]
  },
  {
   "cell_type": "code",
   "execution_count": 220,
   "metadata": {},
   "outputs": [],
   "source": [
    "#browser.back()"
   ]
  },
  {
   "cell_type": "markdown",
   "metadata": {},
   "source": [
    "**Puis reprendre son taf**"
   ]
  },
  {
   "cell_type": "code",
   "execution_count": 221,
   "metadata": {},
   "outputs": [],
   "source": [
    "liste_indien = browser.find_elements_by_class_name('resultItem') #je re génère ma liste d'objet selenium"
   ]
  },
  {
   "cell_type": "code",
   "execution_count": 222,
   "metadata": {},
   "outputs": [],
   "source": [
    "liste_indien[0].click()"
   ]
  },
  {
   "cell_type": "code",
   "execution_count": 223,
   "metadata": {},
   "outputs": [],
   "source": [
    "window_name = browser.window_handles[1] #je selectionne\n",
    "browser.switch_to.window(window_name=window_name) #je switch"
   ]
  },
  {
   "cell_type": "code",
   "execution_count": 224,
   "metadata": {},
   "outputs": [
    {
     "data": {
      "text/plain": [
       "[]"
      ]
     },
     "execution_count": 224,
     "metadata": {},
     "output_type": "execute_result"
    }
   ],
   "source": [
    "# si l'info est donné, prendre le metro le plus proche \n",
    "#soit par copy xpath\n",
    "transport = [info.text for info in browser.find_elements_by_xpath('//*[@id=\"ocAccessInfo\"]/div/div[1]/ul')]\n",
    "transport   \n",
    "\n",
    "# ou par copy selector\n",
    "transport2 = [info.text for info in browser.find_elements_by_css_selector('#ocAccessInfo > div > div:nth-child(1) > ul')]\n",
    "transport2 "
   ]
  },
  {
   "cell_type": "code",
   "execution_count": 225,
   "metadata": {},
   "outputs": [],
   "source": [
    "#ferme l'onglet actif\n",
    "browser.close()\n",
    "#revenir sur l'onglet initial d'index 0\n",
    "window_name = browser.window_handles[0] #je selectionne\n",
    "browser.switch_to.window(window_name=window_name) #je switch"
   ]
  },
  {
   "cell_type": "code",
   "execution_count": 226,
   "metadata": {},
   "outputs": [],
   "source": [
    "liste_indien = browser.find_elements_by_class_name('resultItem') #je re génère ma liste d'objet selenium"
   ]
  },
  {
   "cell_type": "markdown",
   "metadata": {},
   "source": [
    "  **Construction de la boucle**                                                  "
   ]
  },
  {
   "cell_type": "code",
   "execution_count": 227,
   "metadata": {},
   "outputs": [],
   "source": [
    "#je génère la liste selenium\n",
    "liste_indien = browser.find_elements_by_class_name('resultItem')\n"
   ]
  },
  {
   "cell_type": "code",
   "execution_count": 228,
   "metadata": {},
   "outputs": [
    {
     "data": {
      "text/plain": [
       "'Délice indien\\n41 Avenue du Général de Gaulle 94160 Saint-Mandé\\nINDIEN\\nPrix moyen 20 €\\n-50% sur la carte *\\n8,9 /10\\n85 avis'"
      ]
     },
     "execution_count": 228,
     "metadata": {},
     "output_type": "execute_result"
    }
   ],
   "source": [
    "#prend le texte du l'lélement 0 de la liste\n",
    "liste_indien[1].text"
   ]
  },
  {
   "cell_type": "code",
   "execution_count": 229,
   "metadata": {},
   "outputs": [],
   "source": [
    "#cliquer sur le 1er element de la liste (index 0) qui va s'ouvrir sur un nouvel onglet\n",
    "liste_indien[1].click()"
   ]
  },
  {
   "cell_type": "code",
   "execution_count": 230,
   "metadata": {},
   "outputs": [],
   "source": [
    "#selectionne l'onglet grace l'index\n",
    "window_name = browser.window_handles[1] \n",
    "#switch vers l'onglet selectionné\n",
    "browser.switch_to.window(window_name=window_name)"
   ]
  },
  {
   "cell_type": "code",
   "execution_count": 231,
   "metadata": {},
   "outputs": [
    {
     "data": {
      "text/plain": [
       "[]"
      ]
     },
     "execution_count": 231,
     "metadata": {},
     "output_type": "execute_result"
    }
   ],
   "source": [
    "# si indiquer prendre le metro le plus proche\n",
    "transport = [info.text for info in browser.find_elements_by_xpath('//*[@id=\"ocAccessInfo\"]/div/div[1]/ul')]\n",
    "transport "
   ]
  },
  {
   "cell_type": "code",
   "execution_count": 232,
   "metadata": {},
   "outputs": [],
   "source": [
    "#ferme l'onglet actif\n",
    "browser.close()\n",
    "#revenir sur l'onglet initial d'index 0\n",
    "window_name = browser.window_handles[0] #je selectionne\n",
    "browser.switch_to.window(window_name=window_name) #je switch\n",
    "\n",
    "#je re génère ma liste d'objet selenium\n",
    "liste_indien = browser.find_elements_by_class_name('resultItem') "
   ]
  },
  {
   "cell_type": "code",
   "execution_count": null,
   "metadata": {},
   "outputs": [],
   "source": []
  },
  {
   "cell_type": "code",
   "execution_count": null,
   "metadata": {},
   "outputs": [],
   "source": []
  },
  {
   "cell_type": "code",
   "execution_count": 233,
   "metadata": {},
   "outputs": [],
   "source": [
    "#nom, adresse, genre, tarif, promo, note, nombre avis"
   ]
  },
  {
   "cell_type": "code",
   "execution_count": 234,
   "metadata": {},
   "outputs": [
    {
     "data": {
      "text/plain": [
       "['Curry Indien\\n30 Avenue Louis Bordes 93240 Stains\\nINDIEN\\nPrix moyen 15 €\\n-40% sur la carte *\\n9 /10\\n11 avis',\n",
       " 'Délice indien\\n41 Avenue du Général de Gaulle 94160 Saint-Mandé\\nINDIEN\\nPrix moyen 20 €\\n-50% sur la carte *\\n8,9 /10\\n85 avis',\n",
       " 'Le Petit Indien\\n5 Rue Pouchet 75017 Paris\\nINDIEN\\nPrix moyen 30 €\\n-50% sur la carte *\\n8,9 /10\\n156 avis',\n",
       " 'Rasna Restaurant Indien\\n214 Rue de la Croix Nivert 75015 Paris\\nINDIEN\\nPrix moyen 20 €\\n-50% sur la carte *\\n8,6 /10\\n370 avis',\n",
       " 'Indien\\n24 Place Parmentier 80000 Amiens\\nINDIEN\\nPrix moyen 25 €\\n-40% sur la carte *\\n8,6 /10\\n29 avis',\n",
       " 'Indien Palace\\n273 Avenue Carnot 78700 Conflans-Sainte-Honorine\\nINDIEN\\nPrix moyen 20 €\\n-30% sur la Carte *\\n8,9 /10\\n124 avis',\n",
       " \"Les Saveurs de l'Océan Indien\\n10 Rue du Béarn 31600 Eaunes\\nCUISINE DU MONDE\\nPrix moyen 20 €\\n9,3 /10\\n105 avis\",\n",
       " 'Royal Indien\\n4, rue de la Félicité 75017 Paris\\nINDIEN\\nPrix moyen 19 € • Yums acceptés\\n-40% sur la carte *\\n9,2 /10\\n3929 avis',\n",
       " 'Escale Indienne\\n105 Cours Berriat 38000 Grenoble\\nINDIEN\\nPrix moyen 20 € • Yums acceptés\\n9 /10\\n107 avis',\n",
       " 'Le Bistro Indien\\n7 Place Paul Claudel 78180 Montigny-le-Bretonneux\\nINDIEN\\nPrix moyen 20 €\\n-30% sur la carte *\\n8,4 /10\\n773 avis',\n",
       " 'Royal Indien\\n14 Rue du Lieutenant Loyer 51000 Châlons-en-Champagne\\nINDIEN\\nPrix moyen 20 €\\n-30% sur la carte *',\n",
       " 'Royal Indien\\n13 Rue Kervégan 44000 Nantes\\nINDIEN\\nPrix moyen 20 €\\n9,1 /10\\n660 avis',\n",
       " 'Restaurant Indien La Vallée du Kashmir\\n21 Rue des Prêtres Place dalton 62200 Boulogne-sur-Mer\\nINDIEN\\nPrix moyen 18 €\\n9,2 /10\\n36 avis',\n",
       " 'Kashmir Indien\\n19 Rue des Tonneliers 83150 Bandol\\nINDIEN\\nPrix moyen 21 €\\n8,8 /10\\n60 avis',\n",
       " 'Royal Indien\\n14, rue Lainerie 69005 Lyon\\nINDIEN\\nPrix moyen 22 €\\n9,3 /10\\n521 avis',\n",
       " 'Bollywood - Restaurant Indien\\n7 Rue de la Clavurerie 44000 Nantes\\nINDIEN\\nPrix moyen 20 €\\n-30% sur la carte *\\n6 /10\\n11 avis',\n",
       " 'Taj Indien\\n97 Avenue du Général de Gaulle 78600 Maisons-Laffitte\\nINDIEN\\nPrix moyen 30 €\\n8,5 /10\\n89 avis',\n",
       " 'La Villa Indienne\\n5 Avenue Fridingen 77100 Nanteuil-lès-Meaux\\nINDIEN\\nPrix moyen 15 €\\n-50% sur la carte *\\n8,7 /10\\n261 avis',\n",
       " \"Le Taj Indien Lyon\\n27 Rue de l'Arbre Sec 69001 Lyon\\nINDIEN\\nPrix moyen 25 €\\n-20% sur la carte *\\n9,2 /10\\n807 avis\",\n",
       " 'Le Casino Indien\\nAvenue de la Gare 10 1315 La Sarraz\\nINDIEN\\nPrix moyen 30,00 CHF']"
      ]
     },
     "execution_count": 234,
     "metadata": {},
     "output_type": "execute_result"
    }
   ],
   "source": [
    "liste_indien_lisible = [] \n",
    "for i in range(len(browser.find_elements_by_class_name('resultItem'))):\n",
    "        liste_indien_lisible.append(liste_indien[i].text)\n",
    "        #liste_indien[i].click()\n",
    "        #window_name = browser.window_handles[i] \n",
    "        #browser.switch_to.window(window_name=window_name)\n",
    "        #transport = [info.text for info in browser.find_elements_by_xpath('//*[@id=\"ocAccessInfo\"]/div/div[1]/ul')]\n",
    " \n",
    "\n",
    "        #print (liste_indien_lisible)\n",
    "liste_indien_lisible"
   ]
  },
  {
   "cell_type": "code",
   "execution_count": 235,
   "metadata": {},
   "outputs": [
    {
     "data": {
      "text/plain": [
       "20"
      ]
     },
     "execution_count": 235,
     "metadata": {},
     "output_type": "execute_result"
    }
   ],
   "source": [
    "len(liste_indien_lisible)"
   ]
  },
  {
   "cell_type": "code",
   "execution_count": 236,
   "metadata": {},
   "outputs": [
    {
     "data": {
      "text/html": [
       "<div>\n",
       "<style scoped>\n",
       "    .dataframe tbody tr th:only-of-type {\n",
       "        vertical-align: middle;\n",
       "    }\n",
       "\n",
       "    .dataframe tbody tr th {\n",
       "        vertical-align: top;\n",
       "    }\n",
       "\n",
       "    .dataframe thead th {\n",
       "        text-align: right;\n",
       "    }\n",
       "</style>\n",
       "<table border=\"1\" class=\"dataframe\">\n",
       "  <thead>\n",
       "    <tr style=\"text-align: right;\">\n",
       "      <th></th>\n",
       "      <th>tout les resto</th>\n",
       "    </tr>\n",
       "  </thead>\n",
       "  <tbody>\n",
       "    <tr>\n",
       "      <th>0</th>\n",
       "      <td>Curry Indien\\n30 Avenue Louis Bordes 93240 Sta...</td>\n",
       "    </tr>\n",
       "    <tr>\n",
       "      <th>1</th>\n",
       "      <td>Délice indien\\n41 Avenue du Général de Gaulle ...</td>\n",
       "    </tr>\n",
       "    <tr>\n",
       "      <th>2</th>\n",
       "      <td>Le Petit Indien\\n5 Rue Pouchet 75017 Paris\\nIN...</td>\n",
       "    </tr>\n",
       "    <tr>\n",
       "      <th>3</th>\n",
       "      <td>Rasna Restaurant Indien\\n214 Rue de la Croix N...</td>\n",
       "    </tr>\n",
       "    <tr>\n",
       "      <th>4</th>\n",
       "      <td>Indien\\n24 Place Parmentier 80000 Amiens\\nINDI...</td>\n",
       "    </tr>\n",
       "    <tr>\n",
       "      <th>5</th>\n",
       "      <td>Indien Palace\\n273 Avenue Carnot 78700 Conflan...</td>\n",
       "    </tr>\n",
       "    <tr>\n",
       "      <th>6</th>\n",
       "      <td>Les Saveurs de l'Océan Indien\\n10 Rue du Béarn...</td>\n",
       "    </tr>\n",
       "    <tr>\n",
       "      <th>7</th>\n",
       "      <td>Royal Indien\\n4, rue de la Félicité 75017 Pari...</td>\n",
       "    </tr>\n",
       "    <tr>\n",
       "      <th>8</th>\n",
       "      <td>Escale Indienne\\n105 Cours Berriat 38000 Greno...</td>\n",
       "    </tr>\n",
       "    <tr>\n",
       "      <th>9</th>\n",
       "      <td>Le Bistro Indien\\n7 Place Paul Claudel 78180 M...</td>\n",
       "    </tr>\n",
       "    <tr>\n",
       "      <th>10</th>\n",
       "      <td>Royal Indien\\n14 Rue du Lieutenant Loyer 51000...</td>\n",
       "    </tr>\n",
       "    <tr>\n",
       "      <th>11</th>\n",
       "      <td>Royal Indien\\n13 Rue Kervégan 44000 Nantes\\nIN...</td>\n",
       "    </tr>\n",
       "    <tr>\n",
       "      <th>12</th>\n",
       "      <td>Restaurant Indien La Vallée du Kashmir\\n21 Rue...</td>\n",
       "    </tr>\n",
       "    <tr>\n",
       "      <th>13</th>\n",
       "      <td>Kashmir Indien\\n19 Rue des Tonneliers 83150 Ba...</td>\n",
       "    </tr>\n",
       "    <tr>\n",
       "      <th>14</th>\n",
       "      <td>Royal Indien\\n14, rue Lainerie 69005 Lyon\\nIND...</td>\n",
       "    </tr>\n",
       "    <tr>\n",
       "      <th>15</th>\n",
       "      <td>Bollywood - Restaurant Indien\\n7 Rue de la Cla...</td>\n",
       "    </tr>\n",
       "    <tr>\n",
       "      <th>16</th>\n",
       "      <td>Taj Indien\\n97 Avenue du Général de Gaulle 786...</td>\n",
       "    </tr>\n",
       "    <tr>\n",
       "      <th>17</th>\n",
       "      <td>La Villa Indienne\\n5 Avenue Fridingen 77100 Na...</td>\n",
       "    </tr>\n",
       "    <tr>\n",
       "      <th>18</th>\n",
       "      <td>Le Taj Indien Lyon\\n27 Rue de l'Arbre Sec 6900...</td>\n",
       "    </tr>\n",
       "    <tr>\n",
       "      <th>19</th>\n",
       "      <td>Le Casino Indien\\nAvenue de la Gare 10 1315 La...</td>\n",
       "    </tr>\n",
       "  </tbody>\n",
       "</table>\n",
       "</div>"
      ],
      "text/plain": [
       "                                       tout les resto\n",
       "0   Curry Indien\\n30 Avenue Louis Bordes 93240 Sta...\n",
       "1   Délice indien\\n41 Avenue du Général de Gaulle ...\n",
       "2   Le Petit Indien\\n5 Rue Pouchet 75017 Paris\\nIN...\n",
       "3   Rasna Restaurant Indien\\n214 Rue de la Croix N...\n",
       "4   Indien\\n24 Place Parmentier 80000 Amiens\\nINDI...\n",
       "5   Indien Palace\\n273 Avenue Carnot 78700 Conflan...\n",
       "6   Les Saveurs de l'Océan Indien\\n10 Rue du Béarn...\n",
       "7   Royal Indien\\n4, rue de la Félicité 75017 Pari...\n",
       "8   Escale Indienne\\n105 Cours Berriat 38000 Greno...\n",
       "9   Le Bistro Indien\\n7 Place Paul Claudel 78180 M...\n",
       "10  Royal Indien\\n14 Rue du Lieutenant Loyer 51000...\n",
       "11  Royal Indien\\n13 Rue Kervégan 44000 Nantes\\nIN...\n",
       "12  Restaurant Indien La Vallée du Kashmir\\n21 Rue...\n",
       "13  Kashmir Indien\\n19 Rue des Tonneliers 83150 Ba...\n",
       "14  Royal Indien\\n14, rue Lainerie 69005 Lyon\\nIND...\n",
       "15  Bollywood - Restaurant Indien\\n7 Rue de la Cla...\n",
       "16  Taj Indien\\n97 Avenue du Général de Gaulle 786...\n",
       "17  La Villa Indienne\\n5 Avenue Fridingen 77100 Na...\n",
       "18  Le Taj Indien Lyon\\n27 Rue de l'Arbre Sec 6900...\n",
       "19  Le Casino Indien\\nAvenue de la Gare 10 1315 La..."
      ]
     },
     "execution_count": 236,
     "metadata": {},
     "output_type": "execute_result"
    }
   ],
   "source": [
    "import pandas as pd\n",
    "df = pd.DataFrame()\n",
    "df['tout les resto'] = liste_indien_lisible\n",
    "\n",
    "df"
   ]
  },
  {
   "cell_type": "code",
   "execution_count": 237,
   "metadata": {},
   "outputs": [],
   "source": [
    "#import csv\n",
    "#with open('passwd.csv', 'w', newline='') as f:\n",
    "        #writer = csv.writer(f)\n",
    "        #for x in l:\n",
    "            #writer.writerow(x)"
   ]
  },
  {
   "cell_type": "code",
   "execution_count": null,
   "metadata": {},
   "outputs": [],
   "source": []
  },
  {
   "cell_type": "code",
   "execution_count": null,
   "metadata": {},
   "outputs": [],
   "source": []
  },
  {
   "cell_type": "code",
   "execution_count": null,
   "metadata": {},
   "outputs": [],
   "source": []
  },
  {
   "cell_type": "code",
   "execution_count": null,
   "metadata": {},
   "outputs": [],
   "source": []
  },
  {
   "cell_type": "code",
   "execution_count": null,
   "metadata": {},
   "outputs": [],
   "source": []
  },
  {
   "cell_type": "code",
   "execution_count": null,
   "metadata": {},
   "outputs": [],
   "source": []
  },
  {
   "cell_type": "code",
   "execution_count": null,
   "metadata": {},
   "outputs": [],
   "source": []
  },
  {
   "cell_type": "code",
   "execution_count": 238,
   "metadata": {},
   "outputs": [],
   "source": [
    "#window_name = browser.window_handles[1] #je selectionne\n",
    "#browser.switch_to.window(window_name=window_name) #je switch\n",
    "#browser.close() #je ferme\n",
    "\n",
    "#window_name = browser.window_handles[0] #je selectionne\n",
    "#browser.switch_to.window(window_name=window_name) #je switch\n",
    "#liste_indien = browser.find_elements_by_class_name('resultItem') #je re génère ma liste d'objet selenium\n",
    "#liste_indien[3].text\n",
    "#liste_indien[0].click() "
   ]
  },
  {
   "cell_type": "markdown",
   "metadata": {},
   "source": [
    "**Pour Quitter la fenêtre de navigation :**"
   ]
  },
  {
   "cell_type": "code",
   "execution_count": 237,
   "metadata": {},
   "outputs": [
    {
     "ename": "AttributeError",
     "evalue": "'NoneType' object has no attribute 'quit'",
     "output_type": "error",
     "traceback": [
      "\u001b[0;31m---------------------------------------------------------------------------\u001b[0m",
      "\u001b[0;31mAttributeError\u001b[0m                            Traceback (most recent call last)",
      "\u001b[0;32m<ipython-input-237-710928f8954f>\u001b[0m in \u001b[0;36m<module>\u001b[0;34m\u001b[0m\n\u001b[0;32m----> 1\u001b[0;31m \u001b[0mbrowser\u001b[0m\u001b[0;34m.\u001b[0m\u001b[0mquit\u001b[0m\u001b[0;34m(\u001b[0m\u001b[0;34m)\u001b[0m\u001b[0;34m\u001b[0m\u001b[0;34m\u001b[0m\u001b[0m\n\u001b[0m",
      "\u001b[0;31mAttributeError\u001b[0m: 'NoneType' object has no attribute 'quit'"
     ]
    }
   ],
   "source": [
    "browser.quit()"
   ]
  },
  {
   "cell_type": "code",
   "execution_count": null,
   "metadata": {},
   "outputs": [],
   "source": []
  },
  {
   "cell_type": "code",
   "execution_count": null,
   "metadata": {},
   "outputs": [],
   "source": []
  },
  {
   "cell_type": "markdown",
   "metadata": {},
   "source": [
    "## BROUILLON"
   ]
  },
  {
   "cell_type": "code",
   "execution_count": 240,
   "metadata": {},
   "outputs": [],
   "source": [
    "#google = webdriver.Chrome()\n",
    "#google.get('http://www.google.com')\n"
   ]
  },
  {
   "cell_type": "code",
   "execution_count": 241,
   "metadata": {},
   "outputs": [],
   "source": [
    "#google.find_element_by_tag_name('body').send_keys(Keys.CONTROL + 't')\n",
    "#google.get('https://www.yahoo.com')"
   ]
  },
  {
   "cell_type": "code",
   "execution_count": 242,
   "metadata": {},
   "outputs": [],
   "source": [
    "#google.close()"
   ]
  },
  {
   "cell_type": "code",
   "execution_count": null,
   "metadata": {},
   "outputs": [],
   "source": []
  },
  {
   "cell_type": "code",
   "execution_count": 243,
   "metadata": {},
   "outputs": [],
   "source": [
    "#window_name = google.window_handles[1]\n"
   ]
  },
  {
   "cell_type": "code",
   "execution_count": 244,
   "metadata": {},
   "outputs": [],
   "source": [
    "#google.switch_to.window(window_name=window_name)\n"
   ]
  },
  {
   "cell_type": "code",
   "execution_count": 245,
   "metadata": {},
   "outputs": [],
   "source": [
    "#google.close()\n"
   ]
  },
  {
   "cell_type": "code",
   "execution_count": 246,
   "metadata": {},
   "outputs": [],
   "source": [
    "#liste = [1,2,3,4,5,6,7,8,9]\n",
    "#liste[1::]"
   ]
  },
  {
   "cell_type": "code",
   "execution_count": null,
   "metadata": {},
   "outputs": [],
   "source": []
  },
  {
   "cell_type": "code",
   "execution_count": 247,
   "metadata": {},
   "outputs": [],
   "source": [
    "#click= image.click()\n",
    "\n",
    "        #window_name=browser.window_handles[1] # selectionner le nouvel onglet qui vient de s'ouvrir\n",
    "        #time.sleep(0.1)\n",
    "        #browser.switch_to.window(window_name=window_name) # switcher le browser sur ce nouvel onglet\n",
    "        #time.sleep(2)\n",
    "#browser.close() # fermer le nouvel onglet actif\n",
    "        #window_name=browser.window_handles[0] # selectionner le nouvel onglet qui vient de s'ouvrir\n",
    "        #time.sleep(0.1)\n",
    "        #browser.switch_to.window(window_name=window_name)"
   ]
  },
  {
   "cell_type": "code",
   "execution_count": null,
   "metadata": {},
   "outputs": [],
   "source": []
  },
  {
   "cell_type": "code",
   "execution_count": 47,
   "metadata": {},
   "outputs": [
    {
     "ename": "AttributeError",
     "evalue": "'str' object has no attribute 'update'",
     "output_type": "error",
     "traceback": [
      "\u001b[0;31m---------------------------------------------------------------------------\u001b[0m",
      "\u001b[0;31mAttributeError\u001b[0m                            Traceback (most recent call last)",
      "\u001b[0;32m<ipython-input-47-d07d53260dac>\u001b[0m in \u001b[0;36m<module>\u001b[0;34m\u001b[0m\n\u001b[1;32m      2\u001b[0m \u001b[0mcomments_note\u001b[0m\u001b[0;34m[\u001b[0m\u001b[0;34m\"note\"\u001b[0m\u001b[0;34m]\u001b[0m \u001b[0;34m=\u001b[0m \u001b[0;36m3\u001b[0m\u001b[0;34m\u001b[0m\u001b[0;34m\u001b[0m\u001b[0m\n\u001b[1;32m      3\u001b[0m \u001b[0mcomments_note\u001b[0m\u001b[0;34m[\u001b[0m\u001b[0;34m\"comment\"\u001b[0m\u001b[0;34m]\u001b[0m \u001b[0;34m=\u001b[0m \u001b[0;34m'lol'\u001b[0m\u001b[0;34m\u001b[0m\u001b[0;34m\u001b[0m\u001b[0m\n\u001b[0;32m----> 4\u001b[0;31m \u001b[0mcomments_note\u001b[0m\u001b[0;34m[\u001b[0m\u001b[0;34m\"comment\"\u001b[0m\u001b[0;34m]\u001b[0m\u001b[0;34m.\u001b[0m\u001b[0mupdate\u001b[0m\u001b[0;34m(\u001b[0m\u001b[0;34m[\u001b[0m\u001b[0;34m'lala'\u001b[0m\u001b[0;34m]\u001b[0m\u001b[0;34m)\u001b[0m\u001b[0;34m\u001b[0m\u001b[0;34m\u001b[0m\u001b[0m\n\u001b[0m\u001b[1;32m      5\u001b[0m \u001b[0mcomments_note\u001b[0m\u001b[0;34m\u001b[0m\u001b[0;34m\u001b[0m\u001b[0m\n",
      "\u001b[0;31mAttributeError\u001b[0m: 'str' object has no attribute 'update'"
     ]
    }
   ],
   "source": [
    "comments_note = {}\n",
    "comments_note[\"note\"] = 3\n",
    "comments_note[\"comment\"] = 'lol'\n",
    "comments_note[\"comment\"].update(['lala'])\n",
    "comments_note"
   ]
  },
  {
   "cell_type": "code",
   "execution_count": 66,
   "metadata": {},
   "outputs": [
    {
     "data": {
      "text/html": [
       "<div>\n",
       "<style scoped>\n",
       "    .dataframe tbody tr th:only-of-type {\n",
       "        vertical-align: middle;\n",
       "    }\n",
       "\n",
       "    .dataframe tbody tr th {\n",
       "        vertical-align: top;\n",
       "    }\n",
       "\n",
       "    .dataframe thead th {\n",
       "        text-align: right;\n",
       "    }\n",
       "</style>\n",
       "<table border=\"1\" class=\"dataframe\">\n",
       "  <thead>\n",
       "    <tr style=\"text-align: right;\">\n",
       "      <th></th>\n",
       "      <th>note</th>\n",
       "      <th>commentaire</th>\n",
       "    </tr>\n",
       "  </thead>\n",
       "  <tbody>\n",
       "  </tbody>\n",
       "</table>\n",
       "</div>"
      ],
      "text/plain": [
       "Empty DataFrame\n",
       "Columns: [note, commentaire]\n",
       "Index: []"
      ]
     },
     "execution_count": 66,
     "metadata": {},
     "output_type": "execute_result"
    }
   ],
   "source": [
    "import numpy as np\n",
    "import pandas as pd\n",
    "\n",
    "df_notes_comments = pd.DataFrame({\n",
    "    'note' : comments_list,\n",
    "    'commentaire' : rates_list\n",
    "})\n",
    "\n",
    "df_notes_comments"
   ]
  },
  {
   "cell_type": "code",
   "execution_count": null,
   "metadata": {},
   "outputs": [],
   "source": [
    "while true"
   ]
  }
 ],
 "metadata": {
  "kernelspec": {
   "display_name": "Python 3",
   "language": "python",
   "name": "python3"
  },
  "language_info": {
   "codemirror_mode": {
    "name": "ipython",
    "version": 3
   },
   "file_extension": ".py",
   "mimetype": "text/x-python",
   "name": "python",
   "nbconvert_exporter": "python",
   "pygments_lexer": "ipython3",
   "version": "3.7.3"
  }
 },
 "nbformat": 4,
 "nbformat_minor": 2
}
