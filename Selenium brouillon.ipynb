{
 "cells": [
  {
   "cell_type": "code",
   "execution_count": 1,
   "metadata": {},
   "outputs": [],
   "source": [
    "from selenium import webdriver\n",
    "from selenium.webdriver.common.keys import Keys\n",
    "from selenium.webdriver.common.action_chains import ActionChains\n",
    "\n",
    "\n",
    "browser = webdriver.Chrome()\n",
    "# browser = webdriver.Firefox(executable_path='C:/path/to/geckodriver.exe') au cas où geckdriver.exe n'est pas dans le path ni au même endroit\n",
    "browser.get('https://www.lafourchette.com/ville/paris/415144')\n"
   ]
  },
  {
   "cell_type": "code",
   "execution_count": 2,
   "metadata": {},
   "outputs": [],
   "source": [
    "browser.maximize_window()"
   ]
  },
  {
   "cell_type": "code",
   "execution_count": 3,
   "metadata": {},
   "outputs": [],
   "source": [
    "#taper \"indien\" dans la bar de recherche\n",
    "recherche = browser.find_element_by_xpath('//*[@role=\"textbox\"]')\n",
    "recherche.send_keys(\"indien\")"
   ]
  },
  {
   "cell_type": "code",
   "execution_count": 4,
   "metadata": {},
   "outputs": [],
   "source": [
    "#selectionner une date de reservation\n",
    "date = browser.find_element_by_xpath('//*[@id=\"la_fourchette_search_bar_form_type\"]/div[3]')\n",
    "date.click()"
   ]
  },
  {
   "cell_type": "code",
   "execution_count": 5,
   "metadata": {},
   "outputs": [],
   "source": [
    "#selectionner \"sans date précise\"\n",
    "sans_date = browser.find_element_by_xpath('//*[@id=\"la_fourchette_search_bar_form_type\"]/div[3]/div[2]/button')\n",
    "sans_date.click()\n",
    "#la recherche est lancée"
   ]
  },
  {
   "cell_type": "code",
   "execution_count": 6,
   "metadata": {},
   "outputs": [
    {
     "data": {
      "text/plain": [
       "[<selenium.webdriver.remote.webelement.WebElement (session=\"432c7ca5c29fe451972594c41f9f078f\", element=\"0.24356813725391624-1\")>,\n",
       " <selenium.webdriver.remote.webelement.WebElement (session=\"432c7ca5c29fe451972594c41f9f078f\", element=\"0.24356813725391624-2\")>,\n",
       " <selenium.webdriver.remote.webelement.WebElement (session=\"432c7ca5c29fe451972594c41f9f078f\", element=\"0.24356813725391624-3\")>,\n",
       " <selenium.webdriver.remote.webelement.WebElement (session=\"432c7ca5c29fe451972594c41f9f078f\", element=\"0.24356813725391624-4\")>,\n",
       " <selenium.webdriver.remote.webelement.WebElement (session=\"432c7ca5c29fe451972594c41f9f078f\", element=\"0.24356813725391624-5\")>,\n",
       " <selenium.webdriver.remote.webelement.WebElement (session=\"432c7ca5c29fe451972594c41f9f078f\", element=\"0.24356813725391624-6\")>,\n",
       " <selenium.webdriver.remote.webelement.WebElement (session=\"432c7ca5c29fe451972594c41f9f078f\", element=\"0.24356813725391624-7\")>,\n",
       " <selenium.webdriver.remote.webelement.WebElement (session=\"432c7ca5c29fe451972594c41f9f078f\", element=\"0.24356813725391624-8\")>,\n",
       " <selenium.webdriver.remote.webelement.WebElement (session=\"432c7ca5c29fe451972594c41f9f078f\", element=\"0.24356813725391624-9\")>,\n",
       " <selenium.webdriver.remote.webelement.WebElement (session=\"432c7ca5c29fe451972594c41f9f078f\", element=\"0.24356813725391624-10\")>,\n",
       " <selenium.webdriver.remote.webelement.WebElement (session=\"432c7ca5c29fe451972594c41f9f078f\", element=\"0.24356813725391624-11\")>,\n",
       " <selenium.webdriver.remote.webelement.WebElement (session=\"432c7ca5c29fe451972594c41f9f078f\", element=\"0.24356813725391624-12\")>,\n",
       " <selenium.webdriver.remote.webelement.WebElement (session=\"432c7ca5c29fe451972594c41f9f078f\", element=\"0.24356813725391624-13\")>,\n",
       " <selenium.webdriver.remote.webelement.WebElement (session=\"432c7ca5c29fe451972594c41f9f078f\", element=\"0.24356813725391624-14\")>,\n",
       " <selenium.webdriver.remote.webelement.WebElement (session=\"432c7ca5c29fe451972594c41f9f078f\", element=\"0.24356813725391624-15\")>,\n",
       " <selenium.webdriver.remote.webelement.WebElement (session=\"432c7ca5c29fe451972594c41f9f078f\", element=\"0.24356813725391624-16\")>,\n",
       " <selenium.webdriver.remote.webelement.WebElement (session=\"432c7ca5c29fe451972594c41f9f078f\", element=\"0.24356813725391624-17\")>,\n",
       " <selenium.webdriver.remote.webelement.WebElement (session=\"432c7ca5c29fe451972594c41f9f078f\", element=\"0.24356813725391624-18\")>,\n",
       " <selenium.webdriver.remote.webelement.WebElement (session=\"432c7ca5c29fe451972594c41f9f078f\", element=\"0.24356813725391624-19\")>,\n",
       " <selenium.webdriver.remote.webelement.WebElement (session=\"432c7ca5c29fe451972594c41f9f078f\", element=\"0.24356813725391624-20\")>]"
      ]
     },
     "execution_count": 6,
     "metadata": {},
     "output_type": "execute_result"
    }
   ],
   "source": [
    "liste_indien = browser.find_elements_by_class_name('resultItem')\n",
    "liste_indien"
   ]
  },
  {
   "cell_type": "code",
   "execution_count": 7,
   "metadata": {},
   "outputs": [
    {
     "data": {
      "text/plain": [
       "20"
      ]
     },
     "execution_count": 7,
     "metadata": {},
     "output_type": "execute_result"
    }
   ],
   "source": [
    "len(liste_indien)"
   ]
  },
  {
   "cell_type": "code",
   "execution_count": 8,
   "metadata": {},
   "outputs": [
    {
     "data": {
      "text/plain": [
       "'Restaurant Indien La Vallée du Kashmir\\n21 Rue des Prêtres Place dalton 62200 Boulogne-sur-Mer\\nINDIEN\\nPrix moyen 18 €\\n8,9 /10\\n39 avis'"
      ]
     },
     "execution_count": 8,
     "metadata": {},
     "output_type": "execute_result"
    }
   ],
   "source": [
    "#1er test, prend le texte du l'lélement 0 de la liste\n",
    "liste_indien[19].text"
   ]
  },
  {
   "cell_type": "markdown",
   "metadata": {},
   "source": [
    "**Certains liens peuvent s'ouvrir sur de nouveaux onglets, ci-dessous les steps pour naviguer entre les onglets :**"
   ]
  },
  {
   "cell_type": "code",
   "execution_count": 217,
   "metadata": {},
   "outputs": [],
   "source": [
    "#cliquer sur le 1er element de la liste (index 0) qui va s'ouvrir sur un nouvel onglet\n",
    "liste_indien[0].click() "
   ]
  },
  {
   "cell_type": "code",
   "execution_count": 218,
   "metadata": {},
   "outputs": [],
   "source": [
    "#selectionne l'onglet grace l'index\n",
    "window_name = browser.window_handles[1] \n",
    "#switch vers l'onglet selectionné\n",
    "browser.switch_to.window(window_name=window_name)"
   ]
  },
  {
   "cell_type": "code",
   "execution_count": 219,
   "metadata": {},
   "outputs": [],
   "source": [
    "#ferme l'onglet actif\n",
    "browser.close()\n",
    "#revenir sur l'onglet initial d'index 0\n",
    "window_name = browser.window_handles[0] #je selectionne\n",
    "browser.switch_to.window(window_name=window_name) #je switch"
   ]
  },
  {
   "cell_type": "markdown",
   "metadata": {},
   "source": [
    "**Sinon il suffit de faire un back() pour revenir en arrière :**"
   ]
  },
  {
   "cell_type": "code",
   "execution_count": 220,
   "metadata": {},
   "outputs": [],
   "source": [
    "#browser.back()"
   ]
  },
  {
   "cell_type": "markdown",
   "metadata": {},
   "source": [
    "**Puis reprendre son taf**"
   ]
  },
  {
   "cell_type": "code",
   "execution_count": 221,
   "metadata": {},
   "outputs": [],
   "source": [
    "liste_indien = browser.find_elements_by_class_name('resultItem')"
   ]
  },
  {
   "cell_type": "code",
   "execution_count": 222,
   "metadata": {},
   "outputs": [],
   "source": [
    "liste_indien[0].click()"
   ]
  },
  {
   "cell_type": "code",
   "execution_count": 223,
   "metadata": {},
   "outputs": [],
   "source": [
    "window_name = browser.window_handles[1] #je selectionne\n",
    "browser.switch_to.window(window_name=window_name) #je switch"
   ]
  },
  {
   "cell_type": "code",
   "execution_count": 224,
   "metadata": {},
   "outputs": [
    {
     "data": {
      "text/plain": [
       "[]"
      ]
     },
     "execution_count": 224,
     "metadata": {},
     "output_type": "execute_result"
    }
   ],
   "source": [
    "# si l'info est donné, prendre le metro le plus proche \n",
    "#soit par copy xpath\n",
    "transport = [info.text for info in browser.find_elements_by_xpath('//*[@id=\"ocAccessInfo\"]/div/div[1]/ul')]\n",
    "transport   \n",
    "\n",
    "# ou par copy selector\n",
    "transport2 = [info.text for info in browser.find_elements_by_css_selector('#ocAccessInfo > div > div:nth-child(1) > ul')]\n",
    "transport2 "
   ]
  },
  {
   "cell_type": "code",
   "execution_count": 225,
   "metadata": {},
   "outputs": [],
   "source": [
    "#ferme l'onglet actif\n",
    "browser.close()\n",
    "#revenir sur l'onglet initial d'index 0\n",
    "window_name = browser.window_handles[0] #je selectionne\n",
    "browser.switch_to.window(window_name=window_name) #je switch"
   ]
  },
  {
   "cell_type": "code",
   "execution_count": 226,
   "metadata": {},
   "outputs": [],
   "source": [
    "liste_indien = browser.find_elements_by_class_name('resultItem') #je re génère ma liste d'objet selenium"
   ]
  },
  {
   "cell_type": "markdown",
   "metadata": {},
   "source": [
    "  **Construction de la boucle**                                                  "
   ]
  },
  {
   "cell_type": "code",
   "execution_count": 227,
   "metadata": {},
   "outputs": [],
   "source": [
    "#je génère la liste selenium\n",
    "liste_indien = browser.find_elements_by_class_name('resultItem')\n"
   ]
  },
  {
   "cell_type": "code",
   "execution_count": 228,
   "metadata": {},
   "outputs": [
    {
     "data": {
      "text/plain": [
       "'Délice indien\\n41 Avenue du Général de Gaulle 94160 Saint-Mandé\\nINDIEN\\nPrix moyen 20 €\\n-50% sur la carte *\\n8,9 /10\\n85 avis'"
      ]
     },
     "execution_count": 228,
     "metadata": {},
     "output_type": "execute_result"
    }
   ],
   "source": [
    "#prend le texte du l'lélement 0 de la liste\n",
    "liste_indien[1].text"
   ]
  },
  {
   "cell_type": "code",
   "execution_count": 229,
   "metadata": {},
   "outputs": [],
   "source": [
    "#cliquer sur le 1er element de la liste (index 0) qui va s'ouvrir sur un nouvel onglet\n",
    "liste_indien[1].click()"
   ]
  },
  {
   "cell_type": "code",
   "execution_count": 230,
   "metadata": {},
   "outputs": [],
   "source": [
    "#selectionne l'onglet grace l'index\n",
    "window_name = browser.window_handles[1] \n",
    "#switch vers l'onglet selectionné\n",
    "browser.switch_to.window(window_name=window_name)"
   ]
  },
  {
   "cell_type": "code",
   "execution_count": 231,
   "metadata": {},
   "outputs": [
    {
     "data": {
      "text/plain": [
       "[]"
      ]
     },
     "execution_count": 231,
     "metadata": {},
     "output_type": "execute_result"
    }
   ],
   "source": [
    "# si indiquer prendre le metro le plus proche\n",
    "transport = [info.text for info in browser.find_elements_by_xpath('//*[@id=\"ocAccessInfo\"]/div/div[1]/ul')]\n",
    "transport "
   ]
  },
  {
   "cell_type": "code",
   "execution_count": 232,
   "metadata": {},
   "outputs": [],
   "source": [
    "#ferme l'onglet actif\n",
    "browser.close()\n",
    "#revenir sur l'onglet initial d'index 0\n",
    "window_name = browser.window_handles[0] #je selectionne\n",
    "browser.switch_to.window(window_name=window_name) #je switch\n",
    "\n",
    "#je re génère ma liste d'objet selenium\n",
    "liste_indien = browser.find_elements_by_class_name('resultItem') "
   ]
  },
  {
   "cell_type": "code",
   "execution_count": null,
   "metadata": {},
   "outputs": [],
   "source": []
  },
  {
   "cell_type": "code",
   "execution_count": null,
   "metadata": {},
   "outputs": [],
   "source": []
  },
  {
   "cell_type": "code",
   "execution_count": 233,
   "metadata": {},
   "outputs": [],
   "source": [
    "#nom, adresse, genre, tarif, promo, note, nombre avis"
   ]
  },
  {
   "cell_type": "code",
   "execution_count": 234,
   "metadata": {},
   "outputs": [
    {
     "data": {
      "text/plain": [
       "['Curry Indien\\n30 Avenue Louis Bordes 93240 Stains\\nINDIEN\\nPrix moyen 15 €\\n-40% sur la carte *\\n9 /10\\n11 avis',\n",
       " 'Délice indien\\n41 Avenue du Général de Gaulle 94160 Saint-Mandé\\nINDIEN\\nPrix moyen 20 €\\n-50% sur la carte *\\n8,9 /10\\n85 avis',\n",
       " 'Le Petit Indien\\n5 Rue Pouchet 75017 Paris\\nINDIEN\\nPrix moyen 30 €\\n-50% sur la carte *\\n8,9 /10\\n156 avis',\n",
       " 'Rasna Restaurant Indien\\n214 Rue de la Croix Nivert 75015 Paris\\nINDIEN\\nPrix moyen 20 €\\n-50% sur la carte *\\n8,6 /10\\n370 avis',\n",
       " 'Indien\\n24 Place Parmentier 80000 Amiens\\nINDIEN\\nPrix moyen 25 €\\n-40% sur la carte *\\n8,6 /10\\n29 avis',\n",
       " 'Indien Palace\\n273 Avenue Carnot 78700 Conflans-Sainte-Honorine\\nINDIEN\\nPrix moyen 20 €\\n-30% sur la Carte *\\n8,9 /10\\n124 avis',\n",
       " \"Les Saveurs de l'Océan Indien\\n10 Rue du Béarn 31600 Eaunes\\nCUISINE DU MONDE\\nPrix moyen 20 €\\n9,3 /10\\n105 avis\",\n",
       " 'Royal Indien\\n4, rue de la Félicité 75017 Paris\\nINDIEN\\nPrix moyen 19 € • Yums acceptés\\n-40% sur la carte *\\n9,2 /10\\n3929 avis',\n",
       " 'Escale Indienne\\n105 Cours Berriat 38000 Grenoble\\nINDIEN\\nPrix moyen 20 € • Yums acceptés\\n9 /10\\n107 avis',\n",
       " 'Le Bistro Indien\\n7 Place Paul Claudel 78180 Montigny-le-Bretonneux\\nINDIEN\\nPrix moyen 20 €\\n-30% sur la carte *\\n8,4 /10\\n773 avis',\n",
       " 'Royal Indien\\n14 Rue du Lieutenant Loyer 51000 Châlons-en-Champagne\\nINDIEN\\nPrix moyen 20 €\\n-30% sur la carte *',\n",
       " 'Royal Indien\\n13 Rue Kervégan 44000 Nantes\\nINDIEN\\nPrix moyen 20 €\\n9,1 /10\\n660 avis',\n",
       " 'Restaurant Indien La Vallée du Kashmir\\n21 Rue des Prêtres Place dalton 62200 Boulogne-sur-Mer\\nINDIEN\\nPrix moyen 18 €\\n9,2 /10\\n36 avis',\n",
       " 'Kashmir Indien\\n19 Rue des Tonneliers 83150 Bandol\\nINDIEN\\nPrix moyen 21 €\\n8,8 /10\\n60 avis',\n",
       " 'Royal Indien\\n14, rue Lainerie 69005 Lyon\\nINDIEN\\nPrix moyen 22 €\\n9,3 /10\\n521 avis',\n",
       " 'Bollywood - Restaurant Indien\\n7 Rue de la Clavurerie 44000 Nantes\\nINDIEN\\nPrix moyen 20 €\\n-30% sur la carte *\\n6 /10\\n11 avis',\n",
       " 'Taj Indien\\n97 Avenue du Général de Gaulle 78600 Maisons-Laffitte\\nINDIEN\\nPrix moyen 30 €\\n8,5 /10\\n89 avis',\n",
       " 'La Villa Indienne\\n5 Avenue Fridingen 77100 Nanteuil-lès-Meaux\\nINDIEN\\nPrix moyen 15 €\\n-50% sur la carte *\\n8,7 /10\\n261 avis',\n",
       " \"Le Taj Indien Lyon\\n27 Rue de l'Arbre Sec 69001 Lyon\\nINDIEN\\nPrix moyen 25 €\\n-20% sur la carte *\\n9,2 /10\\n807 avis\",\n",
       " 'Le Casino Indien\\nAvenue de la Gare 10 1315 La Sarraz\\nINDIEN\\nPrix moyen 30,00 CHF']"
      ]
     },
     "execution_count": 234,
     "metadata": {},
     "output_type": "execute_result"
    }
   ],
   "source": [
    "liste_indien_lisible = [] \n",
    "for i in range(len(browser.find_elements_by_class_name('resultItem'))):\n",
    "        liste_indien_lisible.append(liste_indien[i].text)\n",
    "        #liste_indien[i].click()\n",
    "        #window_name = browser.window_handles[i] \n",
    "        #browser.switch_to.window(window_name=window_name)\n",
    "        #transport = [info.text for info in browser.find_elements_by_xpath('//*[@id=\"ocAccessInfo\"]/div/div[1]/ul')]\n",
    " \n",
    "\n",
    "        #print (liste_indien_lisible)\n",
    "liste_indien_lisible"
   ]
  },
  {
   "cell_type": "code",
   "execution_count": 235,
   "metadata": {},
   "outputs": [
    {
     "data": {
      "text/plain": [
       "20"
      ]
     },
     "execution_count": 235,
     "metadata": {},
     "output_type": "execute_result"
    }
   ],
   "source": [
    "len(liste_indien_lisible)"
   ]
  },
  {
   "cell_type": "code",
   "execution_count": 236,
   "metadata": {},
   "outputs": [
    {
     "data": {
      "text/html": [
       "<div>\n",
       "<style scoped>\n",
       "    .dataframe tbody tr th:only-of-type {\n",
       "        vertical-align: middle;\n",
       "    }\n",
       "\n",
       "    .dataframe tbody tr th {\n",
       "        vertical-align: top;\n",
       "    }\n",
       "\n",
       "    .dataframe thead th {\n",
       "        text-align: right;\n",
       "    }\n",
       "</style>\n",
       "<table border=\"1\" class=\"dataframe\">\n",
       "  <thead>\n",
       "    <tr style=\"text-align: right;\">\n",
       "      <th></th>\n",
       "      <th>tout les resto</th>\n",
       "    </tr>\n",
       "  </thead>\n",
       "  <tbody>\n",
       "    <tr>\n",
       "      <th>0</th>\n",
       "      <td>Curry Indien\\n30 Avenue Louis Bordes 93240 Sta...</td>\n",
       "    </tr>\n",
       "    <tr>\n",
       "      <th>1</th>\n",
       "      <td>Délice indien\\n41 Avenue du Général de Gaulle ...</td>\n",
       "    </tr>\n",
       "    <tr>\n",
       "      <th>2</th>\n",
       "      <td>Le Petit Indien\\n5 Rue Pouchet 75017 Paris\\nIN...</td>\n",
       "    </tr>\n",
       "    <tr>\n",
       "      <th>3</th>\n",
       "      <td>Rasna Restaurant Indien\\n214 Rue de la Croix N...</td>\n",
       "    </tr>\n",
       "    <tr>\n",
       "      <th>4</th>\n",
       "      <td>Indien\\n24 Place Parmentier 80000 Amiens\\nINDI...</td>\n",
       "    </tr>\n",
       "    <tr>\n",
       "      <th>5</th>\n",
       "      <td>Indien Palace\\n273 Avenue Carnot 78700 Conflan...</td>\n",
       "    </tr>\n",
       "    <tr>\n",
       "      <th>6</th>\n",
       "      <td>Les Saveurs de l'Océan Indien\\n10 Rue du Béarn...</td>\n",
       "    </tr>\n",
       "    <tr>\n",
       "      <th>7</th>\n",
       "      <td>Royal Indien\\n4, rue de la Félicité 75017 Pari...</td>\n",
       "    </tr>\n",
       "    <tr>\n",
       "      <th>8</th>\n",
       "      <td>Escale Indienne\\n105 Cours Berriat 38000 Greno...</td>\n",
       "    </tr>\n",
       "    <tr>\n",
       "      <th>9</th>\n",
       "      <td>Le Bistro Indien\\n7 Place Paul Claudel 78180 M...</td>\n",
       "    </tr>\n",
       "    <tr>\n",
       "      <th>10</th>\n",
       "      <td>Royal Indien\\n14 Rue du Lieutenant Loyer 51000...</td>\n",
       "    </tr>\n",
       "    <tr>\n",
       "      <th>11</th>\n",
       "      <td>Royal Indien\\n13 Rue Kervégan 44000 Nantes\\nIN...</td>\n",
       "    </tr>\n",
       "    <tr>\n",
       "      <th>12</th>\n",
       "      <td>Restaurant Indien La Vallée du Kashmir\\n21 Rue...</td>\n",
       "    </tr>\n",
       "    <tr>\n",
       "      <th>13</th>\n",
       "      <td>Kashmir Indien\\n19 Rue des Tonneliers 83150 Ba...</td>\n",
       "    </tr>\n",
       "    <tr>\n",
       "      <th>14</th>\n",
       "      <td>Royal Indien\\n14, rue Lainerie 69005 Lyon\\nIND...</td>\n",
       "    </tr>\n",
       "    <tr>\n",
       "      <th>15</th>\n",
       "      <td>Bollywood - Restaurant Indien\\n7 Rue de la Cla...</td>\n",
       "    </tr>\n",
       "    <tr>\n",
       "      <th>16</th>\n",
       "      <td>Taj Indien\\n97 Avenue du Général de Gaulle 786...</td>\n",
       "    </tr>\n",
       "    <tr>\n",
       "      <th>17</th>\n",
       "      <td>La Villa Indienne\\n5 Avenue Fridingen 77100 Na...</td>\n",
       "    </tr>\n",
       "    <tr>\n",
       "      <th>18</th>\n",
       "      <td>Le Taj Indien Lyon\\n27 Rue de l'Arbre Sec 6900...</td>\n",
       "    </tr>\n",
       "    <tr>\n",
       "      <th>19</th>\n",
       "      <td>Le Casino Indien\\nAvenue de la Gare 10 1315 La...</td>\n",
       "    </tr>\n",
       "  </tbody>\n",
       "</table>\n",
       "</div>"
      ],
      "text/plain": [
       "                                       tout les resto\n",
       "0   Curry Indien\\n30 Avenue Louis Bordes 93240 Sta...\n",
       "1   Délice indien\\n41 Avenue du Général de Gaulle ...\n",
       "2   Le Petit Indien\\n5 Rue Pouchet 75017 Paris\\nIN...\n",
       "3   Rasna Restaurant Indien\\n214 Rue de la Croix N...\n",
       "4   Indien\\n24 Place Parmentier 80000 Amiens\\nINDI...\n",
       "5   Indien Palace\\n273 Avenue Carnot 78700 Conflan...\n",
       "6   Les Saveurs de l'Océan Indien\\n10 Rue du Béarn...\n",
       "7   Royal Indien\\n4, rue de la Félicité 75017 Pari...\n",
       "8   Escale Indienne\\n105 Cours Berriat 38000 Greno...\n",
       "9   Le Bistro Indien\\n7 Place Paul Claudel 78180 M...\n",
       "10  Royal Indien\\n14 Rue du Lieutenant Loyer 51000...\n",
       "11  Royal Indien\\n13 Rue Kervégan 44000 Nantes\\nIN...\n",
       "12  Restaurant Indien La Vallée du Kashmir\\n21 Rue...\n",
       "13  Kashmir Indien\\n19 Rue des Tonneliers 83150 Ba...\n",
       "14  Royal Indien\\n14, rue Lainerie 69005 Lyon\\nIND...\n",
       "15  Bollywood - Restaurant Indien\\n7 Rue de la Cla...\n",
       "16  Taj Indien\\n97 Avenue du Général de Gaulle 786...\n",
       "17  La Villa Indienne\\n5 Avenue Fridingen 77100 Na...\n",
       "18  Le Taj Indien Lyon\\n27 Rue de l'Arbre Sec 6900...\n",
       "19  Le Casino Indien\\nAvenue de la Gare 10 1315 La..."
      ]
     },
     "execution_count": 236,
     "metadata": {},
     "output_type": "execute_result"
    }
   ],
   "source": [
    "import pandas as pd\n",
    "df = pd.DataFrame()\n",
    "df['tout les resto'] = liste_indien_lisible\n",
    "\n",
    "df"
   ]
  },
  {
   "cell_type": "code",
   "execution_count": 237,
   "metadata": {},
   "outputs": [],
   "source": [
    "#import csv\n",
    "#with open('passwd.csv', 'w', newline='') as f:\n",
    "        #writer = csv.writer(f)\n",
    "        #for x in l:\n",
    "            #writer.writerow(x)"
   ]
  },
  {
   "cell_type": "code",
   "execution_count": null,
   "metadata": {},
   "outputs": [],
   "source": []
  },
  {
   "cell_type": "code",
   "execution_count": null,
   "metadata": {},
   "outputs": [],
   "source": []
  },
  {
   "cell_type": "code",
   "execution_count": null,
   "metadata": {},
   "outputs": [],
   "source": []
  },
  {
   "cell_type": "code",
   "execution_count": null,
   "metadata": {},
   "outputs": [],
   "source": []
  },
  {
   "cell_type": "code",
   "execution_count": null,
   "metadata": {},
   "outputs": [],
   "source": []
  },
  {
   "cell_type": "code",
   "execution_count": null,
   "metadata": {},
   "outputs": [],
   "source": []
  },
  {
   "cell_type": "code",
   "execution_count": null,
   "metadata": {},
   "outputs": [],
   "source": []
  },
  {
   "cell_type": "code",
   "execution_count": 238,
   "metadata": {},
   "outputs": [],
   "source": [
    "#window_name = browser.window_handles[1] #je selectionne\n",
    "#browser.switch_to.window(window_name=window_name) #je switch\n",
    "#browser.close() #je ferme\n",
    "\n",
    "#window_name = browser.window_handles[0] #je selectionne\n",
    "#browser.switch_to.window(window_name=window_name) #je switch\n",
    "#liste_indien = browser.find_elements_by_class_name('resultItem') #je re génère ma liste d'objet selenium\n",
    "#liste_indien[3].text\n",
    "#liste_indien[0].click() "
   ]
  },
  {
   "cell_type": "markdown",
   "metadata": {},
   "source": [
    "**Pour Quitter la fenêtre de navigation :**"
   ]
  },
  {
   "cell_type": "code",
   "execution_count": 9,
   "metadata": {},
   "outputs": [],
   "source": [
    "#browser.quit()\n"
   ]
  },
  {
   "cell_type": "code",
   "execution_count": null,
   "metadata": {},
   "outputs": [],
   "source": []
  },
  {
   "cell_type": "code",
   "execution_count": null,
   "metadata": {},
   "outputs": [],
   "source": []
  },
  {
   "cell_type": "markdown",
   "metadata": {},
   "source": [
    "## BROUILLON"
   ]
  },
  {
   "cell_type": "code",
   "execution_count": 240,
   "metadata": {},
   "outputs": [],
   "source": [
    "#google = webdriver.Chrome()\n",
    "#google.get('http://www.google.com')\n"
   ]
  },
  {
   "cell_type": "code",
   "execution_count": 241,
   "metadata": {},
   "outputs": [],
   "source": [
    "#google.find_element_by_tag_name('body').send_keys(Keys.CONTROL + 't')\n",
    "#google.get('https://www.yahoo.com')"
   ]
  },
  {
   "cell_type": "code",
   "execution_count": 242,
   "metadata": {},
   "outputs": [],
   "source": [
    "#google.close()"
   ]
  },
  {
   "cell_type": "code",
   "execution_count": null,
   "metadata": {},
   "outputs": [],
   "source": []
  },
  {
   "cell_type": "code",
   "execution_count": 243,
   "metadata": {},
   "outputs": [],
   "source": [
    "#window_name = google.window_handles[1]\n"
   ]
  },
  {
   "cell_type": "code",
   "execution_count": 244,
   "metadata": {},
   "outputs": [],
   "source": [
    "#google.switch_to.window(window_name=window_name)\n"
   ]
  },
  {
   "cell_type": "code",
   "execution_count": 245,
   "metadata": {},
   "outputs": [],
   "source": [
    "#google.close()\n"
   ]
  },
  {
   "cell_type": "code",
   "execution_count": 246,
   "metadata": {},
   "outputs": [],
   "source": [
    "#liste = [1,2,3,4,5,6,7,8,9]\n",
    "#liste[1::]"
   ]
  },
  {
   "cell_type": "code",
   "execution_count": null,
   "metadata": {},
   "outputs": [],
   "source": []
  },
  {
   "cell_type": "code",
   "execution_count": 247,
   "metadata": {},
   "outputs": [],
   "source": [
    "#click= image.click()\n",
    "\n",
    "        #window_name=browser.window_handles[1] # selectionner le nouvel onglet qui vient de s'ouvrir\n",
    "        #time.sleep(0.1)\n",
    "        #browser.switch_to.window(window_name=window_name) # switcher le browser sur ce nouvel onglet\n",
    "        #time.sleep(2)\n",
    "#browser.close() # fermer le nouvel onglet actif\n",
    "        #window_name=browser.window_handles[0] # selectionner le nouvel onglet qui vient de s'ouvrir\n",
    "        #time.sleep(0.1)\n",
    "        #browser.switch_to.window(window_name=window_name)"
   ]
  }
 ],
 "metadata": {
  "kernelspec": {
   "display_name": "Python 3",
   "language": "python",
   "name": "python3"
  },
  "language_info": {
   "codemirror_mode": {
    "name": "ipython",
    "version": 3
   },
   "file_extension": ".py",
   "mimetype": "text/x-python",
   "name": "python",
   "nbconvert_exporter": "python",
   "pygments_lexer": "ipython3",
   "version": "3.7.3"
  }
 },
 "nbformat": 4,
 "nbformat_minor": 2
}
