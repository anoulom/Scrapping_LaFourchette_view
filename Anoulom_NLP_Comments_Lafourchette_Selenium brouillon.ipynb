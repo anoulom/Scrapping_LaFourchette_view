{
 "cells": [
  {
   "cell_type": "code",
   "execution_count": 111,
   "metadata": {},
   "outputs": [],
   "source": [
    "from selenium import webdriver\n",
    "from selenium.webdriver.common.keys import Keys\n",
    "from selenium.webdriver.common.action_chains import ActionChains\n",
    "\n",
    "\n",
    "browser = webdriver.Chrome()\n",
    "# browser = webdriver.Firefox(executable_path='C:/path/to/geckodriver.exe') au cas où geckdriver.exe n'est pas dans le path ni au même endroit\n",
    "browser.get('https://www.lafourchette.com/ville/paris/415144')\n"
   ]
  },
  {
   "cell_type": "code",
   "execution_count": 112,
   "metadata": {},
   "outputs": [],
   "source": [
    "browser.maximize_window()"
   ]
  },
  {
   "cell_type": "code",
   "execution_count": 113,
   "metadata": {},
   "outputs": [],
   "source": [
    "#taper \"indien\" dans la bar de recherche\n",
    "recherche = browser.find_element_by_xpath('//*[@role=\"textbox\"]')\n",
    "recherche.send_keys(\"indien\")"
   ]
  },
  {
   "cell_type": "code",
   "execution_count": 114,
   "metadata": {},
   "outputs": [],
   "source": [
    "#selectionner une date de reservation\n",
    "date = browser.find_element_by_xpath('//*[@id=\"la_fourchette_search_bar_form_type\"]/div[3]')\n",
    "date.click()"
   ]
  },
  {
   "cell_type": "code",
   "execution_count": 116,
   "metadata": {},
   "outputs": [],
   "source": [
    "#selectionner \"sans date précise\"\n",
    "sans_date = browser.find_element_by_xpath('//*[@id=\"la_fourchette_search_bar_form_type\"]/div[3]/div[2]/button')\n",
    "sans_date.click()\n",
    "#la recherche est lancée"
   ]
  },
  {
   "cell_type": "code",
   "execution_count": null,
   "metadata": {},
   "outputs": [],
   "source": []
  },
  {
   "cell_type": "code",
   "execution_count": null,
   "metadata": {},
   "outputs": [],
   "source": []
  },
  {
   "cell_type": "code",
   "execution_count": null,
   "metadata": {},
   "outputs": [],
   "source": []
  },
  {
   "cell_type": "code",
   "execution_count": 117,
   "metadata": {},
   "outputs": [
    {
     "data": {
      "text/plain": [
       "[<selenium.webdriver.remote.webelement.WebElement (session=\"19ccb1f758c696106e778ee7b1c959a4\", element=\"0.04940168982423554-1\")>,\n",
       " <selenium.webdriver.remote.webelement.WebElement (session=\"19ccb1f758c696106e778ee7b1c959a4\", element=\"0.04940168982423554-2\")>,\n",
       " <selenium.webdriver.remote.webelement.WebElement (session=\"19ccb1f758c696106e778ee7b1c959a4\", element=\"0.04940168982423554-3\")>,\n",
       " <selenium.webdriver.remote.webelement.WebElement (session=\"19ccb1f758c696106e778ee7b1c959a4\", element=\"0.04940168982423554-4\")>,\n",
       " <selenium.webdriver.remote.webelement.WebElement (session=\"19ccb1f758c696106e778ee7b1c959a4\", element=\"0.04940168982423554-5\")>,\n",
       " <selenium.webdriver.remote.webelement.WebElement (session=\"19ccb1f758c696106e778ee7b1c959a4\", element=\"0.04940168982423554-6\")>,\n",
       " <selenium.webdriver.remote.webelement.WebElement (session=\"19ccb1f758c696106e778ee7b1c959a4\", element=\"0.04940168982423554-7\")>,\n",
       " <selenium.webdriver.remote.webelement.WebElement (session=\"19ccb1f758c696106e778ee7b1c959a4\", element=\"0.04940168982423554-8\")>,\n",
       " <selenium.webdriver.remote.webelement.WebElement (session=\"19ccb1f758c696106e778ee7b1c959a4\", element=\"0.04940168982423554-9\")>,\n",
       " <selenium.webdriver.remote.webelement.WebElement (session=\"19ccb1f758c696106e778ee7b1c959a4\", element=\"0.04940168982423554-10\")>,\n",
       " <selenium.webdriver.remote.webelement.WebElement (session=\"19ccb1f758c696106e778ee7b1c959a4\", element=\"0.04940168982423554-11\")>,\n",
       " <selenium.webdriver.remote.webelement.WebElement (session=\"19ccb1f758c696106e778ee7b1c959a4\", element=\"0.04940168982423554-12\")>,\n",
       " <selenium.webdriver.remote.webelement.WebElement (session=\"19ccb1f758c696106e778ee7b1c959a4\", element=\"0.04940168982423554-13\")>,\n",
       " <selenium.webdriver.remote.webelement.WebElement (session=\"19ccb1f758c696106e778ee7b1c959a4\", element=\"0.04940168982423554-14\")>,\n",
       " <selenium.webdriver.remote.webelement.WebElement (session=\"19ccb1f758c696106e778ee7b1c959a4\", element=\"0.04940168982423554-15\")>,\n",
       " <selenium.webdriver.remote.webelement.WebElement (session=\"19ccb1f758c696106e778ee7b1c959a4\", element=\"0.04940168982423554-16\")>,\n",
       " <selenium.webdriver.remote.webelement.WebElement (session=\"19ccb1f758c696106e778ee7b1c959a4\", element=\"0.04940168982423554-17\")>,\n",
       " <selenium.webdriver.remote.webelement.WebElement (session=\"19ccb1f758c696106e778ee7b1c959a4\", element=\"0.04940168982423554-18\")>,\n",
       " <selenium.webdriver.remote.webelement.WebElement (session=\"19ccb1f758c696106e778ee7b1c959a4\", element=\"0.04940168982423554-19\")>,\n",
       " <selenium.webdriver.remote.webelement.WebElement (session=\"19ccb1f758c696106e778ee7b1c959a4\", element=\"0.04940168982423554-20\")>]"
      ]
     },
     "execution_count": 117,
     "metadata": {},
     "output_type": "execute_result"
    }
   ],
   "source": [
    "liste_indien = browser.find_elements_by_class_name('resultItem')\n",
    "liste_indien"
   ]
  },
  {
   "cell_type": "markdown",
   "metadata": {},
   "source": [
    "**Certains liens peuvent s'ouvrir sur de nouveaux onglets, ci-dessous les steps pour naviguer entre les onglets :**"
   ]
  },
  {
   "cell_type": "code",
   "execution_count": 118,
   "metadata": {},
   "outputs": [],
   "source": [
    "#cliquer sur le 1er element de la liste (index 0) qui va s'ouvrir sur un nouvel onglet\n",
    "liste_indien[0].click() "
   ]
  },
  {
   "cell_type": "code",
   "execution_count": 119,
   "metadata": {},
   "outputs": [],
   "source": [
    "#selectionne l'onglet grace l'index\n",
    "window_name = browser.window_handles[1] \n",
    "#switch vers l'onglet selectionné\n",
    "browser.switch_to.window(window_name=window_name)"
   ]
  },
  {
   "cell_type": "code",
   "execution_count": 120,
   "metadata": {},
   "outputs": [],
   "source": [
    "# je click sur les avis_LaFourchette\n",
    "avis_lafourchette = browser.find_element_by_xpath('//*[@id=\"restaurantContent\"]/div[1]/div[1]/div[2]/a')\n",
    "avis_lafourchette.click()\n"
   ]
  },
  {
   "cell_type": "code",
   "execution_count": 121,
   "metadata": {},
   "outputs": [],
   "source": [
    "# listes vides pour stocker les commentaires et les notes\n",
    "comments_list = []\n",
    "rates_list =[] # non utilisé pour le moment"
   ]
  },
  {
   "cell_type": "code",
   "execution_count": 122,
   "metadata": {},
   "outputs": [],
   "source": [
    "# prendre tout les 'reviewItem-customerComment' (class_name des commentaires) du browser \n",
    "\n",
    "# de la page 1 des avis\n",
    "comments = browser.find_elements_by_class_name('reviewItem-customerComment') \n",
    "\n",
    "for i in comments:\n",
    "    comments_list.append(i.text) \n",
    "    #print (comments_list)\n",
    "    \n",
    "#ratesp2 = browser.find_elements_by_class_name('rating-ratingValue')\n",
    "#for i in ratesp2:\n",
    "    #rates_list.append(i.text) \n",
    "    #print (rates_list)"
   ]
  },
  {
   "cell_type": "code",
   "execution_count": 123,
   "metadata": {},
   "outputs": [],
   "source": [
    "# je click sur les avis_LaFourchette page 2\n",
    "avis_lafourchettep2 = browser.find_element_by_xpath('//*[@id=\"reviews-list\"]/ul/li[2]')\n",
    "avis_lafourchettep2.click()"
   ]
  },
  {
   "cell_type": "code",
   "execution_count": 124,
   "metadata": {},
   "outputs": [],
   "source": [
    "# de la page 2 des avis\n",
    "comments = browser.find_elements_by_class_name('reviewItem-customerComment') \n",
    "\n",
    "for i in comments:\n",
    "    comments_list.append(i.text) \n",
    "    #print (comments_list)"
   ]
  },
  {
   "cell_type": "code",
   "execution_count": 125,
   "metadata": {},
   "outputs": [],
   "source": [
    "# je click sur les avis_LaFourchette page 3\n",
    "avis_lafourchettep3 = browser.find_element_by_xpath('//*[@id=\"reviews-list\"]/ul/li[3]')\n",
    "avis_lafourchettep3.click()\n"
   ]
  },
  {
   "cell_type": "code",
   "execution_count": 126,
   "metadata": {},
   "outputs": [],
   "source": [
    "# de la page 3 des avis\n",
    "comments = browser.find_elements_by_class_name('reviewItem-customerComment') \n",
    "\n",
    "for i in comments:\n",
    "    comments_list.append(i.text) \n",
    "    #print (comments_list)"
   ]
  },
  {
   "cell_type": "code",
   "execution_count": null,
   "metadata": {},
   "outputs": [],
   "source": []
  },
  {
   "cell_type": "code",
   "execution_count": null,
   "metadata": {},
   "outputs": [],
   "source": []
  },
  {
   "cell_type": "code",
   "execution_count": 135,
   "metadata": {},
   "outputs": [
    {
     "ename": "NoSuchElementException",
     "evalue": "Message: no such element: Unable to locate element: {\"method\":\"xpath\",\"selector\":\"//*[@id=\"reviews-list\"]/ul/li[9]\"}\n  (Session info: chrome=75.0.3770.100)\n  (Driver info: chromedriver=74.0.3729.6 (255758eccf3d244491b8a1317aa76e1ce10d57e9-refs/branch-heads/3729@{#29}),platform=Mac OS X 10.11.6 x86_64)\n",
     "output_type": "error",
     "traceback": [
      "\u001b[0;31m---------------------------------------------------------------------------\u001b[0m",
      "\u001b[0;31mNoSuchElementException\u001b[0m                    Traceback (most recent call last)",
      "\u001b[0;32m<ipython-input-135-06b1cc74cd2c>\u001b[0m in \u001b[0;36m<module>\u001b[0;34m\u001b[0m\n\u001b[1;32m      1\u001b[0m \u001b[0;31m# je click sur les avis_LaFourchette page suivante\u001b[0m\u001b[0;34m\u001b[0m\u001b[0;34m\u001b[0m\u001b[0;34m\u001b[0m\u001b[0m\n\u001b[0;32m----> 2\u001b[0;31m \u001b[0mavis_lafourchettep3\u001b[0m \u001b[0;34m=\u001b[0m \u001b[0mbrowser\u001b[0m\u001b[0;34m.\u001b[0m\u001b[0mfind_element_by_xpath\u001b[0m\u001b[0;34m(\u001b[0m\u001b[0;34m'//*[@id=\"reviews-list\"]/ul/li[9]'\u001b[0m\u001b[0;34m)\u001b[0m\u001b[0;34m\u001b[0m\u001b[0;34m\u001b[0m\u001b[0m\n\u001b[0m\u001b[1;32m      3\u001b[0m \u001b[0mavis_lafourchettep3\u001b[0m\u001b[0;34m.\u001b[0m\u001b[0mclick\u001b[0m\u001b[0;34m(\u001b[0m\u001b[0;34m)\u001b[0m\u001b[0;34m\u001b[0m\u001b[0;34m\u001b[0m\u001b[0m\n\u001b[1;32m      4\u001b[0m \u001b[0;34m\u001b[0m\u001b[0m\n\u001b[1;32m      5\u001b[0m \u001b[0;32mimport\u001b[0m \u001b[0mtime\u001b[0m\u001b[0;34m\u001b[0m\u001b[0;34m\u001b[0m\u001b[0m\n",
      "\u001b[0;32m~/anaconda3/lib/python3.7/site-packages/selenium/webdriver/remote/webdriver.py\u001b[0m in \u001b[0;36mfind_element_by_xpath\u001b[0;34m(self, xpath)\u001b[0m\n\u001b[1;32m    392\u001b[0m             \u001b[0melement\u001b[0m \u001b[0;34m=\u001b[0m \u001b[0mdriver\u001b[0m\u001b[0;34m.\u001b[0m\u001b[0mfind_element_by_xpath\u001b[0m\u001b[0;34m(\u001b[0m\u001b[0;34m'//div/td[1]'\u001b[0m\u001b[0;34m)\u001b[0m\u001b[0;34m\u001b[0m\u001b[0;34m\u001b[0m\u001b[0m\n\u001b[1;32m    393\u001b[0m         \"\"\"\n\u001b[0;32m--> 394\u001b[0;31m         \u001b[0;32mreturn\u001b[0m \u001b[0mself\u001b[0m\u001b[0;34m.\u001b[0m\u001b[0mfind_element\u001b[0m\u001b[0;34m(\u001b[0m\u001b[0mby\u001b[0m\u001b[0;34m=\u001b[0m\u001b[0mBy\u001b[0m\u001b[0;34m.\u001b[0m\u001b[0mXPATH\u001b[0m\u001b[0;34m,\u001b[0m \u001b[0mvalue\u001b[0m\u001b[0;34m=\u001b[0m\u001b[0mxpath\u001b[0m\u001b[0;34m)\u001b[0m\u001b[0;34m\u001b[0m\u001b[0;34m\u001b[0m\u001b[0m\n\u001b[0m\u001b[1;32m    395\u001b[0m \u001b[0;34m\u001b[0m\u001b[0m\n\u001b[1;32m    396\u001b[0m     \u001b[0;32mdef\u001b[0m \u001b[0mfind_elements_by_xpath\u001b[0m\u001b[0;34m(\u001b[0m\u001b[0mself\u001b[0m\u001b[0;34m,\u001b[0m \u001b[0mxpath\u001b[0m\u001b[0;34m)\u001b[0m\u001b[0;34m:\u001b[0m\u001b[0;34m\u001b[0m\u001b[0;34m\u001b[0m\u001b[0m\n",
      "\u001b[0;32m~/anaconda3/lib/python3.7/site-packages/selenium/webdriver/remote/webdriver.py\u001b[0m in \u001b[0;36mfind_element\u001b[0;34m(self, by, value)\u001b[0m\n\u001b[1;32m    976\u001b[0m         return self.execute(Command.FIND_ELEMENT, {\n\u001b[1;32m    977\u001b[0m             \u001b[0;34m'using'\u001b[0m\u001b[0;34m:\u001b[0m \u001b[0mby\u001b[0m\u001b[0;34m,\u001b[0m\u001b[0;34m\u001b[0m\u001b[0;34m\u001b[0m\u001b[0m\n\u001b[0;32m--> 978\u001b[0;31m             'value': value})['value']\n\u001b[0m\u001b[1;32m    979\u001b[0m \u001b[0;34m\u001b[0m\u001b[0m\n\u001b[1;32m    980\u001b[0m     \u001b[0;32mdef\u001b[0m \u001b[0mfind_elements\u001b[0m\u001b[0;34m(\u001b[0m\u001b[0mself\u001b[0m\u001b[0;34m,\u001b[0m \u001b[0mby\u001b[0m\u001b[0;34m=\u001b[0m\u001b[0mBy\u001b[0m\u001b[0;34m.\u001b[0m\u001b[0mID\u001b[0m\u001b[0;34m,\u001b[0m \u001b[0mvalue\u001b[0m\u001b[0;34m=\u001b[0m\u001b[0;32mNone\u001b[0m\u001b[0;34m)\u001b[0m\u001b[0;34m:\u001b[0m\u001b[0;34m\u001b[0m\u001b[0;34m\u001b[0m\u001b[0m\n",
      "\u001b[0;32m~/anaconda3/lib/python3.7/site-packages/selenium/webdriver/remote/webdriver.py\u001b[0m in \u001b[0;36mexecute\u001b[0;34m(self, driver_command, params)\u001b[0m\n\u001b[1;32m    319\u001b[0m         \u001b[0mresponse\u001b[0m \u001b[0;34m=\u001b[0m \u001b[0mself\u001b[0m\u001b[0;34m.\u001b[0m\u001b[0mcommand_executor\u001b[0m\u001b[0;34m.\u001b[0m\u001b[0mexecute\u001b[0m\u001b[0;34m(\u001b[0m\u001b[0mdriver_command\u001b[0m\u001b[0;34m,\u001b[0m \u001b[0mparams\u001b[0m\u001b[0;34m)\u001b[0m\u001b[0;34m\u001b[0m\u001b[0;34m\u001b[0m\u001b[0m\n\u001b[1;32m    320\u001b[0m         \u001b[0;32mif\u001b[0m \u001b[0mresponse\u001b[0m\u001b[0;34m:\u001b[0m\u001b[0;34m\u001b[0m\u001b[0;34m\u001b[0m\u001b[0m\n\u001b[0;32m--> 321\u001b[0;31m             \u001b[0mself\u001b[0m\u001b[0;34m.\u001b[0m\u001b[0merror_handler\u001b[0m\u001b[0;34m.\u001b[0m\u001b[0mcheck_response\u001b[0m\u001b[0;34m(\u001b[0m\u001b[0mresponse\u001b[0m\u001b[0;34m)\u001b[0m\u001b[0;34m\u001b[0m\u001b[0;34m\u001b[0m\u001b[0m\n\u001b[0m\u001b[1;32m    322\u001b[0m             response['value'] = self._unwrap_value(\n\u001b[1;32m    323\u001b[0m                 response.get('value', None))\n",
      "\u001b[0;32m~/anaconda3/lib/python3.7/site-packages/selenium/webdriver/remote/errorhandler.py\u001b[0m in \u001b[0;36mcheck_response\u001b[0;34m(self, response)\u001b[0m\n\u001b[1;32m    240\u001b[0m                 \u001b[0malert_text\u001b[0m \u001b[0;34m=\u001b[0m \u001b[0mvalue\u001b[0m\u001b[0;34m[\u001b[0m\u001b[0;34m'alert'\u001b[0m\u001b[0;34m]\u001b[0m\u001b[0;34m.\u001b[0m\u001b[0mget\u001b[0m\u001b[0;34m(\u001b[0m\u001b[0;34m'text'\u001b[0m\u001b[0;34m)\u001b[0m\u001b[0;34m\u001b[0m\u001b[0;34m\u001b[0m\u001b[0m\n\u001b[1;32m    241\u001b[0m             \u001b[0;32mraise\u001b[0m \u001b[0mexception_class\u001b[0m\u001b[0;34m(\u001b[0m\u001b[0mmessage\u001b[0m\u001b[0;34m,\u001b[0m \u001b[0mscreen\u001b[0m\u001b[0;34m,\u001b[0m \u001b[0mstacktrace\u001b[0m\u001b[0;34m,\u001b[0m \u001b[0malert_text\u001b[0m\u001b[0;34m)\u001b[0m\u001b[0;34m\u001b[0m\u001b[0;34m\u001b[0m\u001b[0m\n\u001b[0;32m--> 242\u001b[0;31m         \u001b[0;32mraise\u001b[0m \u001b[0mexception_class\u001b[0m\u001b[0;34m(\u001b[0m\u001b[0mmessage\u001b[0m\u001b[0;34m,\u001b[0m \u001b[0mscreen\u001b[0m\u001b[0;34m,\u001b[0m \u001b[0mstacktrace\u001b[0m\u001b[0;34m)\u001b[0m\u001b[0;34m\u001b[0m\u001b[0;34m\u001b[0m\u001b[0m\n\u001b[0m\u001b[1;32m    243\u001b[0m \u001b[0;34m\u001b[0m\u001b[0m\n\u001b[1;32m    244\u001b[0m     \u001b[0;32mdef\u001b[0m \u001b[0m_value_or_default\u001b[0m\u001b[0;34m(\u001b[0m\u001b[0mself\u001b[0m\u001b[0;34m,\u001b[0m \u001b[0mobj\u001b[0m\u001b[0;34m,\u001b[0m \u001b[0mkey\u001b[0m\u001b[0;34m,\u001b[0m \u001b[0mdefault\u001b[0m\u001b[0;34m)\u001b[0m\u001b[0;34m:\u001b[0m\u001b[0;34m\u001b[0m\u001b[0;34m\u001b[0m\u001b[0m\n",
      "\u001b[0;31mNoSuchElementException\u001b[0m: Message: no such element: Unable to locate element: {\"method\":\"xpath\",\"selector\":\"//*[@id=\"reviews-list\"]/ul/li[9]\"}\n  (Session info: chrome=75.0.3770.100)\n  (Driver info: chromedriver=74.0.3729.6 (255758eccf3d244491b8a1317aa76e1ce10d57e9-refs/branch-heads/3729@{#29}),platform=Mac OS X 10.11.6 x86_64)\n"
     ]
    }
   ],
   "source": [
    "# je click sur les avis_LaFourchette page suivante\n",
    "avis_lafourchettep3 = browser.find_element_by_xpath('//*[@id=\"reviews-list\"]/ul/li[9]')\n",
    "avis_lafourchettep3.click()\n",
    "\n",
    "import time\n",
    "time.sleep(7)\n",
    "\n",
    "comments = browser.find_elements_by_class_name('reviewItem-customerComment') \n",
    "\n",
    "for i in comments:\n",
    "    comments_list.append(i.text) \n",
    "    #print (comments_list)\n",
    "\n",
    "print (len(comments_list))\n",
    "comments_list[len(comments_list)-20] #juste pour vérifier si le scrap est bon"
   ]
  },
  {
   "cell_type": "code",
   "execution_count": 136,
   "metadata": {},
   "outputs": [
    {
     "data": {
      "text/plain": [
       "[\"Une première visite,service trop trop ralenti, j'ai dû relancer plusieurs fois,\\nDes petits plats avec peu de quantité.\\nPetit restaurant et cuisine pas top comparant d'autres resto indien.\\nÀ fuir\",\n",
       " \"quelques plats avec un peu trop d'huile, cependant les saveurs sont la, le service tres attentif, et les quantités sont généreuses !\",\n",
       " 'Plats excellents et bon vin le tout avec un service irréprochable et attentionné. 3eme visite dans ce restaurant et jamais déçu. Je recommande!',\n",
       " 'Personnel attentionné et souriant. Mets indiens de qualité avec un rapport qualité/prix intéressant. Très bonne adresse.',\n",
       " 'Un excellent restaurant indien. Je le recommande.',\n",
       " 'La qualité de service de ce restaurant indien est excellente. Les serveurs sont très attentionnés et soucieux de leur clientèle. La nourriture est bonne et les prix abordables. Merci !',\n",
       " \"C'est la deuxième fois que nous y allons, et c'est très bien!\\nLe cadre est agréable, c'est le plus souvent calme et le personnel est très attentif à chaque client.\\nLes plats indiens sont d'un bon niveau. Si l'on aime ce type de restaurant, c'est une très bonne adresse.\\nLe rapport qualité/prix est intéressant avec une réduction.\",\n",
       " \"J'ai trouvé que l'accueil était très bien, un bon équilibre entre la discrétion et l'attention.\\nUn peu de déception sur les entrés au niveau de la quantité des portions et des nans qui étaient un peu secs.\\nTrès bien au niveau des plats en particulier des biryanis.\",\n",
       " 'Cuisine délicieuse, parfumée et plats bien présentés, service prévenant et sympathique, dans un joli cadre coloré et une ambiance calme.\\nUn très agréable dîner estival !',\n",
       " 'Plats excellents et service attentionné. Très bonne découverte.\\nSe distingue des autres indiens par une sauce à la mangue divine',\n",
       " 'Tout est parfait, nous y reviendrons avec grand plaisir ! :)',\n",
       " 'Très bon restaurant indien, des plats finement cuisinés et des serveurs adorables aux petits soins.\\nJe recommande vivement !!',\n",
       " 'Bon\\nSympathique\\nQuantité peut être un peu limite\\nVoilà\\nEn espérant que LaFourchette comptabilise mon avis que je prends la peine d’ecrire\\nCar une centaine n’ont pas été comptabilisé c’est bien regrettable... et décevant du site lagourchette',\n",
       " 'Habitués du restaurant nous y sommes toujours très bien reçu\\nLe quartier est calme et le cadre du restaurant agréable',\n",
       " 'Une excellente soirée un grand merci à toute l’équipe',\n",
       " 'Parfait pour un déjeuner sympathique',\n",
       " 'Très bon dîner dans ce restaurant très conciliant (nous sommes arrivés avec 30 min de retard...nous avons été accueilli les bras ouverts encore merci! ) .Le service est remarquable et les plats très bons je recommande!',\n",
       " 'Très bonne cuisine! Petit plus : nous avons été servis très rapidement.',\n",
       " 'Le rapport qualité/prix est très bien !',\n",
       " 'Un service excellent et des plats copieux, fournis et bien parfumés... que demander de plus???? Une adresse loin des avenues touristiques mais le détour vaut largement d’être fait!!',\n",
       " \"Pour le budget concerné , un vrai régal autant dans les assiettes que dans l'accueil et le service .\\nJe le conseille sans modération .\",\n",
       " 'Un très bon restaurant, un personnel souriant et des plats copieux.',\n",
       " 'Toujours excellent. Nous venons de temps en temps et sommes jamais déçus. Les plats sont variés et plein de saveurs. Les nans fromage, un pur délice! Le service attentionné et sympathique. Un dîner parfait! A refaire',\n",
       " 'Un personnel efficace, rapide et très aimable, et des plats de bonne qualité servis avec élégance.\\nUn restaurant où nous avions déjà mangé et qui reste fidèle à sa réputation.',\n",
       " \"Habitués du restaurant nous venons régulièrement lors de nos déplacements pro une cuisine delicieuse et authentique et l'equipe est sympathique..\",\n",
       " 'Accueil et Service parfait . Qualité de la viande des currys exceptionnelle, on reviendra, ca c’est sure !',\n",
       " 'toujours aussi bien',\n",
       " 'Très bonne adresse à recommander',\n",
       " 'Nous avons pris le menu à 25 euros. c\\'est excellent et très copieux. les plats sont raffinés et délicieusement épices. Le dessert \"grajar halwa\" est surprenant et gourmand. Les serveurs sont très attentionnés, agréables et de bons conseils et le service est rapide.\\nVous pouvez y aller les yeux fermés',\n",
       " 'restau trouvé sur le pouce sur la fourchette et tenté en lisant les commentaires positifs! pas du tout déçue, je reviendrais pour sûr! Cadre sympathique, bons conseils et bel accueil, plats très bons. A tester!',\n",
       " 'Toujours délicieux et impeccable. Merci !',\n",
       " 'Cadre plaisant et service aux petits soins. Plats delicieux et epices sans etre pimentes, bref tres bien!',\n",
       " 'Toujours aussi bon !',\n",
       " 'toujours aussi bon',\n",
       " '10/10, recommand it.',\n",
       " \"Superbe nourriture,l'entrée etait excellente mais le poulet manquait d'assaisonnement mais rien de mal.\",\n",
       " 'tout a été parfait : carte très complète avec des plats succulents, très bon service attentionné, joli cadre et très bon rapport qualité prix\\non reviendra\\n\\nMerci pour nous recevoir si tard, après le spectacle',\n",
       " 'Personnel avenant et de bon conseil lors du choix des plats / cuisine de très bonne qualité et copieuse / prix justifiés / salle un peu étroite',\n",
       " 'Super accueil, excellente nourriture et plats généreux. Très bon rapport qualité/prix. Je recommande vivement !',\n",
       " 'Serveurs adorables, plats bons et servis rapidement. Une très bonne adresse à recommander !',\n",
       " 'Accueil impeccable, service très attentionné et cuisine delicieuse.\\nJe reviendrais',\n",
       " 'Nous avons passés un agréable moment en dégustant de délicieux mets , je le recommande .',\n",
       " 'Entrées excellentes en revanche les 2 plats (butter chicken et shai korma agneau vraiment pas bon hyper décevant',\n",
       " 'Très correct, bonne adresse à retenir !',\n",
       " \"Nous avons été très déçus par le plat de crevettes à la sauce aux noix et aux raisins .Les 5 très petites crevettes surgelées se battaient en duel dans une sauce par ailleurs assez réussie .Pour un plat principal c'est vraiment très léger!!!!!!Heureusement que nous avions mangé ,en entrée ,une cuisse de poulet tandoori .\",\n",
       " 'Restaurant classique et personnel est aux petits soins.\\nNous avons passé une très bonne soirée.',\n",
       " 'Accueil toujours sympathique et chaleureux. Les plats sont excellents. Qualité toujours égale. A ESSAYER SANS PLUS TARDER',\n",
       " \"Très bien, comme d'habitude.\",\n",
       " 'Toujours un plaisir, accueil très agréable et tout est excellent.',\n",
       " 'Nous avons passé une super soirée dans ce restaurant très calme. les plats sont délicieux et les serveurs sont très sympathiques',\n",
       " 'Serveur attentionné, cadre agréable et intimiste dans la petite salle du fond et une cuisine excellente !',\n",
       " 'Très bon restaurant et un bon accueil',\n",
       " \"Pour la première fois déçus\\nCheese Naan excellents.\\nPlats très moyens\\nLes plats de poulets étaient faiblement épicés et surtout les quantités très restreintes par rapport à d'habitude.\",\n",
       " 'Bel accueil. Service rapide. Personnel aimable et attentionné.',\n",
       " 'Le personnel est très aimable, professionnel, les mets sont de qualités et épicés de façon personnalisé. J’y retourne dès que possible. Au top.',\n",
       " 'Un régal ! Service aux petits soins. Je recommande !',\n",
       " 'Très bon service !',\n",
       " \"C'est la deuxième fois qu'on mange au Royal Indien, le personnel assez chaleureux comme toujours. Le seul bemol c'était le plat mixt grill a partager, la quantité n'est pas suffisant pour 2 personnes. A éviter si vous partager, au delà de cela, très bien et tout a fait recommandé.\",\n",
       " 'Très bon repas, service impeccable, à refaire !',\n",
       " \"Un très bon restaurant pour la cuisine indienne, avec des plats variés et bien cuisinés.\\nL'accueil et le service sont irréprochables.\\nLes prix sont justifiés.\\nNous y retournerons!\",\n",
       " \"Personnel qualifié, aimable et accueillant. On est très heureux d'avoir pu profiter de ce merveilleux restaurant. Chaque entrée, plat, et dessert était bien présenté et particulièrement goûteux.\\nLe café était à l'hauteur. Ils font un entretien régulier de la machine.\\nMerci Royal Indien.\",\n",
       " 'Accueil très chaleureux avec serveur très sympa et disponible. Plats variés et très bons. Une excellente adresse.',\n",
       " 'Un pur régal . Un service parfait . Je vous le conseille très vivement .',\n",
       " \"Très bonne adresse pour un restaurant indien de quartier dans le 17ème. Les plats sont copieux et savoureux. Le service est parfait avec beaucoup d'attentions. Je recommande vivement !\",\n",
       " 'Excellent',\n",
       " 'Parfait',\n",
       " 'Très bonne adresse, très bon service : Je recommande !',\n",
       " 'Parfait, nous connaissions et y retournerons. Le cadre est agréable, les plats sont délicieux. Une précieuse adresse dans le 17e!',\n",
       " 'Un bel endroit où le personnel est sympathique et la cuisine délicieuse',\n",
       " 'Super resto !\\nPersonnel serviable et à l’écoute.\\nJe recommande vivement !',\n",
       " \"Dans un quartier pas vraiment animé près du Boulevard Péreire, ce petit restaurant indien soigne l'accueil de ses clients, serveurs comme patron très aimables. Pour le reste, tous les classiques de la cuisine indienne sont au menu, c'est bon même si le riz était un peu sec. Belle carte des vins et prix très avantageux avec la réduction La Fourchette.\",\n",
       " 'Service très rapide, efficace et sympathique. Les plats sont très bons qui plus est ! Je recommande',\n",
       " 'Un bon restaurant indien... sans grande surprise sur les plats mais bon... l’accueil est chaleureux.',\n",
       " \"Le personnel a été très agréable, le service parfait ! Le restaurant offre un très bon rapport qualité prix, puisque les plats sont un délice, sans pour autant être trop chers (accessible à deux étudiantes). Enfin même si la devanture ne paye pas de mine, l'intérieur est vraiment beau et confortable. Je recommande vivement !\",\n",
       " \"Bon indien. Personnel très aimable. Cadre pas très recherché mais agréable. J'ai pu me garer facilement rue de Tocqueville. Les nans sont bons. Allez-y en confiance!\",\n",
       " \"Cuisine indienne de bonne qualité mais manquant un peu de finesse. Rapport qualité-prix correct avec -30% de réduction, cher hors réductions. Service gentil mais qui gagnerait à être mieux cordonné et plus efficace : cela réduirait le temps d'attente (un peu long) et permettrait aux plats d'arriver en même temps pour toute la table !\",\n",
       " 'Très bon restaurant !\\nNous avons été très bien servis et le repas était excellent !',\n",
       " \"c'était très bon!\",\n",
       " 'Très bonne table service impeccable et accueil toujours aussi sympathique',\n",
       " 'Nan excellent! Très bon repas',\n",
       " \"Personnel qualifié, aimable et accueillant. On est très heureux d'avoir pu profiter de ce merveilleux restaurant. Chaque entrée, plat, et dessert était bien présenté et particulièrement goûteux.\\nLe café était à l'hauteur. Ils font un entretien régulier de la machine.\\nMerci Royal Indien.\",\n",
       " 'Accueil très chaleureux avec serveur très sympa et disponible. Plats variés et très bons. Une excellente adresse.',\n",
       " 'Un pur régal . Un service parfait . Je vous le conseille très vivement .',\n",
       " \"Très bonne adresse pour un restaurant indien de quartier dans le 17ème. Les plats sont copieux et savoureux. Le service est parfait avec beaucoup d'attentions. Je recommande vivement !\",\n",
       " 'Excellent',\n",
       " 'Parfait',\n",
       " 'Très bonne adresse, très bon service : Je recommande !',\n",
       " 'Parfait, nous connaissions et y retournerons. Le cadre est agréable, les plats sont délicieux. Une précieuse adresse dans le 17e!',\n",
       " 'Un bel endroit où le personnel est sympathique et la cuisine délicieuse',\n",
       " 'Super resto !\\nPersonnel serviable et à l’écoute.\\nJe recommande vivement !',\n",
       " \"Dans un quartier pas vraiment animé près du Boulevard Péreire, ce petit restaurant indien soigne l'accueil de ses clients, serveurs comme patron très aimables. Pour le reste, tous les classiques de la cuisine indienne sont au menu, c'est bon même si le riz était un peu sec. Belle carte des vins et prix très avantageux avec la réduction La Fourchette.\",\n",
       " 'Service très rapide, efficace et sympathique. Les plats sont très bons qui plus est ! Je recommande',\n",
       " 'Un bon restaurant indien... sans grande surprise sur les plats mais bon... l’accueil est chaleureux.',\n",
       " \"Le personnel a été très agréable, le service parfait ! Le restaurant offre un très bon rapport qualité prix, puisque les plats sont un délice, sans pour autant être trop chers (accessible à deux étudiantes). Enfin même si la devanture ne paye pas de mine, l'intérieur est vraiment beau et confortable. Je recommande vivement !\",\n",
       " \"Bon indien. Personnel très aimable. Cadre pas très recherché mais agréable. J'ai pu me garer facilement rue de Tocqueville. Les nans sont bons. Allez-y en confiance!\",\n",
       " \"Cuisine indienne de bonne qualité mais manquant un peu de finesse. Rapport qualité-prix correct avec -30% de réduction, cher hors réductions. Service gentil mais qui gagnerait à être mieux cordonné et plus efficace : cela réduirait le temps d'attente (un peu long) et permettrait aux plats d'arriver en même temps pour toute la table !\",\n",
       " 'Très bon restaurant !\\nNous avons été très bien servis et le repas était excellent !',\n",
       " \"c'était très bon!\",\n",
       " 'Très bonne table service impeccable et accueil toujours aussi sympathique',\n",
       " 'Nan excellent! Très bon repas',\n",
       " 'agréable resto de quartier ;service très attentionné.',\n",
       " 'La cuisine est toujours excellente! Les plats sont copieux! Super rapport qualité prix! Petite chose à travailler pour améliorer le service : servir tous les convives de la table en même temps, et gagner en rapidité surtout quand les pauses déjeuners sont timées le midi!! Mais ça ne m’empêchera pas de revenir :-)',\n",
       " 'très bon. Accueil chaleureux. Je recommande',\n",
       " 'Excellent service et ambiance. Personnel chaleureux et sympathique.',\n",
       " \"Ce n'était pas la première fois et j'y reviendrai !\",\n",
       " 'Une très bonne experience pour un déjeuné d’affaire, a très petit prix',\n",
       " \"Accueil et service de qualité. Bonne cuisine, variée. Personnel attentif et à l'écoute. Très agréable.\",\n",
       " 'Plats copieux et bons , service très accueillant',\n",
       " 'Ils sont vraiment super accueil comme les plats, je recommande x1000000',\n",
       " 'Très sympa, et bonne cuisine a renouvelé.!!',\n",
       " \"Service et accueil au top, tout le personnel est gentil et disponible. Par contre les plats ne sont pas terribles, c'est bien dommage pour le cadre et l'ambiance\",\n",
       " 'Après de nombreuses venues, je suis toujours conquis par l’accueil chaleureux et la cuisine délicieuse. Même à 9 convives, le service était a la hauteur. Je recommande encore et toujours.',\n",
       " 'Cuisine délicieuse, la carte est variée et les plats sont délicieux! Service impeccable et équipe d une grande gentillesse et sollicitude.\\nToujours très bien installés, et prix très raisonnable.',\n",
       " 'Une valeureuse sure !!',\n",
       " 'Cadre sympathique et confortable. Nourriture excellente. Bon rapport qualité /prix! Service avec beaucoup de gentillesse.\\nReviendrons.',\n",
       " \"Une valeur sûre dans le quartier avec un très bon rapport qualité-prix. Une importante clientèle d'habitués conforte ce jugement. Service rapide et agréable.\",\n",
       " 'La nourriture y est délicieuse, les serveurs sont adorables, et les prix ne sont vraiment pas dérisoires. Que demander de plus? Je reviendrai avec plaisir!',\n",
       " 'Très bon service et mets délicieux, je recommande',\n",
       " 'Cadre sans prétention cuisine de très bonne qualité service discret très efficace addition sans surprise menus tes variés',\n",
       " 'Dé-li-cieux',\n",
       " 'Sincèrement très bonne accueil, cuisine très bonne je recommande fortement cette adresse.',\n",
       " 'Très très bon!!',\n",
       " 'Restaurant un peu excentré avec une salle à la décoration un peu datée. En dehors des ces aspects, vous pouvez y aller les yeux fermés. Service très agréable et nourriture excellente. Un très bon rapport qualité prix avec La Fourchette !',\n",
       " 'Cuisine excellente, copieuse et savoureuse. Le butter chicken et le kulfi sont à tomber. Prix extrêmement compétitifs en réservant avec La Fourchette. Les serveurs et le propriétaire sont aux petits soins sans être envahissants. Une découverte de qualité.',\n",
       " 'Enfin un restaurant indien qui en est un !! Curry parfait juste parfait\\nPersonnel très attentif et souriant\\nÇa fait plaisir\\nUn très bon moment en famille et avec la réduction la fourchette que du bonheur',\n",
       " 'bon accueil, très bon repas.',\n",
       " \"J'ai réservé à pas d'heure et j'ai été plus que agréablement surpris. L'accueil et le service sont d'une douceur et d'un professionnalisme irréprochable et la cuisine est simplement très bonne. Merci à l'équipe, je recommande cette table, paroles de chef.\",\n",
       " \"Superbe accueil, j'y retourne sans aucunes hésitations !\",\n",
       " 'Comme d’habitude une tres bonne soirée et un très bon repas!',\n",
       " 'Délicieux, service parfait, pas d’attende, cadre sympathique, bon rapport qualité/prix. Y aller les yeux fermés.',\n",
       " 'A recommander',\n",
       " 'Toujours au top depuis des années',\n",
       " 'Deuxième fois que je vais à ce restau, toujours un service à la hauteur, cadre très sympa et la cuisine est succulente.',\n",
       " 'Très bien !\\nJe recommande\\nMa copine et moi avons passé une bonne soirée dans ce très bon restaurant indien',\n",
       " 'Très bien accueilli. Très bonne cuisine. Rien à dire nous reviendrons.',\n",
       " 'Pas mal',\n",
       " 'Grande gentillesse, cuisine de qualité.',\n",
       " 'Très bon rapport qualité prix au top',\n",
       " \"Tout était bien sauf une annulation inexpliquée de ma résa La Fourchette alors que j'étais au restaurant...\",\n",
       " 'Délicieux ! Des vrais saveurs indiennes ... Seul point négatif les portions un peu trop petite .',\n",
       " \"Une excellente table, des serveurs attentifs et souriants, un cadre plus chaleureux qu'il y paraît sur les photos. Une très bonne adresse.\",\n",
       " 'Très bon très aimable très bien !',\n",
       " 'Petit restaurant très conviviale, le personnel est vraiment aux petits soins et très attentifs. Les plats sont servis chauds, ils sont bons, les saveurs indiennes sont au rdv. Merci pour ce dîner, je recommande, d’autant plus qu’avec la fourchette il y a une reduc à 40% c’est génial entre amis !',\n",
       " \"Comme d'habitude, délicieux, très abordable et avec un service super ! Je recommande le kulfi et la semoule en dessert. De vrais délices !\",\n",
       " 'Excellent restaurant! Pour avoir fait plein de restos indiens dans Paris je peux dire que c’est l’un des meilleurs indiens de la capitale. Cadre sympathique, On y mange très bien: nourriture succulente, et service au top: serveurs souriants et aux petits soins avec les clients. Je recommande vivement ce restaurant!',\n",
       " \"Excellent restaurant où l'accueil est chaleureux. Les plats sont excellents. A essayer sans tarder.\",\n",
       " 'J’ai dîné dans cet établissement pour la seconde fois...\\nTout est parfait, le service, la qualité des plats\\nNe pas hésiter à y aller',\n",
       " 'Excellente découverte, service très soigné et agréable. Mets savoureux et bien réalisés. Je recommande !!!',\n",
       " 'Je ne peux que confirmer les commentaires précédents : nourriture très bonne et fraîche, serveurs très agréables. Je recommande sans hésiter !',\n",
       " 'Un indien classique mais avec des plats très bien préparés, notamment le poulet karma fondant à souhait. Adresse à retenir !',\n",
       " 'Top ! Excellent et vraiment pas cher !!',\n",
       " 'Excellent comme d habitude',\n",
       " 'Très bon restaurant ! Nous avons bien mangé (beaucoup de choix) et les serveurs sont adorables ! Ils ont pris le temps de nous expliquer les plats, et les sauces. Nous recommandons vivement !!',\n",
       " 'Je recommande sans problème',\n",
       " 'Une très belle découverte. Une cuisine savoureuse, mention spéciale aux naan au fromage qui sont délicieux et bien fournis en fromage ;) Tout avec un personnel très à l’écoute du client. Très bon moment.',\n",
       " 'Les serveurs sont extrêmement sympathiques et prévenants et assurent de passer une agréable soirée.\\nLes plats sont bons. Le gateau au carotte en dessert était délicieux et original.',\n",
       " \"c'est dommage de réserver à l'avance et de se retrouver 7 à une table de 6, la dernière personne était tout au bout mise de côté à cheval sur deux tables, c'est décevant\\nnourriture très bonne même si un plat n'était pas bien cuit il a suffit de demander pour qu'ils en apportent un nouveau\\nil faisait très très chaud à l'intérieur mais le service est bien et les plats bons\",\n",
       " 'Bien comme d habitude',\n",
       " \"Tout était tres bien, de l'entrée, au plat, copieux et gouteux, sans oublier l'amabilité et l'attention des serveurs pendant le repas. Bonne découverte !!\",\n",
       " 'Très bien reçues , personnel attentionné et gentil , le repas très bon',\n",
       " \"Une excellente table, des serveurs attentifs et souriants, un cadre plus chaleureux qu'il y paraît sur les photos. Une très bonne adresse.\",\n",
       " 'Très bon très aimable très bien !',\n",
       " 'Petit restaurant très conviviale, le personnel est vraiment aux petits soins et très attentifs. Les plats sont servis chauds, ils sont bons, les saveurs indiennes sont au rdv. Merci pour ce dîner, je recommande, d’autant plus qu’avec la fourchette il y a une reduc à 40% c’est génial entre amis !',\n",
       " \"Comme d'habitude, délicieux, très abordable et avec un service super ! Je recommande le kulfi et la semoule en dessert. De vrais délices !\",\n",
       " 'Excellent restaurant! Pour avoir fait plein de restos indiens dans Paris je peux dire que c’est l’un des meilleurs indiens de la capitale. Cadre sympathique, On y mange très bien: nourriture succulente, et service au top: serveurs souriants et aux petits soins avec les clients. Je recommande vivement ce restaurant!',\n",
       " \"Excellent restaurant où l'accueil est chaleureux. Les plats sont excellents. A essayer sans tarder.\",\n",
       " 'J’ai dîné dans cet établissement pour la seconde fois...\\nTout est parfait, le service, la qualité des plats\\nNe pas hésiter à y aller',\n",
       " 'Excellente découverte, service très soigné et agréable. Mets savoureux et bien réalisés. Je recommande !!!',\n",
       " 'Je ne peux que confirmer les commentaires précédents : nourriture très bonne et fraîche, serveurs très agréables. Je recommande sans hésiter !',\n",
       " 'Un indien classique mais avec des plats très bien préparés, notamment le poulet karma fondant à souhait. Adresse à retenir !',\n",
       " 'Top ! Excellent et vraiment pas cher !!',\n",
       " 'Excellent comme d habitude',\n",
       " 'Très bon restaurant ! Nous avons bien mangé (beaucoup de choix) et les serveurs sont adorables ! Ils ont pris le temps de nous expliquer les plats, et les sauces. Nous recommandons vivement !!',\n",
       " 'Je recommande sans problème',\n",
       " 'Une très belle découverte. Une cuisine savoureuse, mention spéciale aux naan au fromage qui sont délicieux et bien fournis en fromage ;) Tout avec un personnel très à l’écoute du client. Très bon moment.',\n",
       " 'Les serveurs sont extrêmement sympathiques et prévenants et assurent de passer une agréable soirée.\\nLes plats sont bons. Le gateau au carotte en dessert était délicieux et original.',\n",
       " \"c'est dommage de réserver à l'avance et de se retrouver 7 à une table de 6, la dernière personne était tout au bout mise de côté à cheval sur deux tables, c'est décevant\\nnourriture très bonne même si un plat n'était pas bien cuit il a suffit de demander pour qu'ils en apportent un nouveau\\nil faisait très très chaud à l'intérieur mais le service est bien et les plats bons\",\n",
       " 'Bien comme d habitude',\n",
       " \"Tout était tres bien, de l'entrée, au plat, copieux et gouteux, sans oublier l'amabilité et l'attention des serveurs pendant le repas. Bonne découverte !!\",\n",
       " 'Très bien reçues , personnel attentionné et gentil , le repas très bon',\n",
       " 'Accueil adorable... Mais cuisine un peu trop Francisée, car peu relevé.',\n",
       " \"Apéritif offert, plats délicieux, personnel adorable, ce restaurant Indien est... Royal! Nous y retournerons avec nos enfants car c'est en plus un très bon rapport qualité, prix!\",\n",
       " 'Accueil et service très agréables, plats succulents. Ce restaurant Indien est à conseiller sans réserve.',\n",
       " 'Quelle belle découverte dans le 17ème! Super accueil et service. Essayez le poulet au beurre, le meilleur sur Paris! Faites confiance au propriétaire qui saura vous recommander de bons plats. Jamais déçu. Félicitations!',\n",
       " 'À faire sans hésiter! Très bon accueil, calme et très bon plats!',\n",
       " \"Ils sont charmants, attentionnés et leurs plats sont exquis: à ne pas manquer.\\nNous c'est sur on y retournera...\",\n",
       " \"Très bon service et accueil, plats copieux et très bons, attention sur la carte le dessert dame blanche consistait en deux boules de glace vanille et chocolat, et rien d'autre... Nous l'avons signalé au serveur qui nous l'a offert ainsi qu'une liqueur de mangue en digestif. Donc à recommander fortement pour les spécialités Indiennes.\",\n",
       " 'Nous avons passé une agréable soirée culinaire avec une grande variété de goûts et aussi un service très agréable.',\n",
       " \"C'était plutôt sympa. En revanche sans remise je n'y retournerai pas.\",\n",
       " 'Accueil très agréable et très sympathique. Nous avons passé une excellente soirée avec nos enfants.',\n",
       " 'Superbe accueil, apéro offert, très sympa !',\n",
       " \"C'est un tout nouveau restaurant. Les serveurs sont très agréables, gentils et discrets. Les plats sont excellents, servis chauds et c'est très copieux! Je vous recommande ce restaurant si vous souhaitez déguster des plats indiens très goûteux, dans une ambiance calme mais bonne... Les prix sans promotion restent très abordables.\",\n",
       " 'Un repas délicieux, un service très attentioné, un cadre sympa... on y retournera!!!',\n",
       " 'Personnel très accueillant, très bon service, apéritif offert malgré la promotion, très bonne cuisine raffinée, restaurant à recommander.',\n",
       " \"Accueil très chaleureux, serveurs très attentionnés, plats délicieux, pas d'attente, adresse à conseiller sans hésitation !!!\",\n",
       " 'Un indien sympa avec un service tres présent. Soirée agréable.',\n",
       " 'Un très bon indien de quartier. Très bon repas en famille.',\n",
       " 'Accueil très chaleureux. Plats très bons. On reviendra !']"
      ]
     },
     "execution_count": 136,
     "metadata": {},
     "output_type": "execute_result"
    }
   ],
   "source": [
    "comments_list"
   ]
  },
  {
   "cell_type": "code",
   "execution_count": 219,
   "metadata": {},
   "outputs": [],
   "source": [
    "#ferme l'onglet actif\n",
    "browser.close()\n",
    "#revenir sur l'onglet initial d'index 0\n",
    "window_name = browser.window_handles[0] #je selectionne\n",
    "browser.switch_to.window(window_name=window_name) #je switch"
   ]
  },
  {
   "cell_type": "markdown",
   "metadata": {},
   "source": [
    "#### brouillon "
   ]
  },
  {
   "cell_type": "code",
   "execution_count": 7,
   "metadata": {},
   "outputs": [
    {
     "data": {
      "text/plain": [
       "20"
      ]
     },
     "execution_count": 7,
     "metadata": {},
     "output_type": "execute_result"
    }
   ],
   "source": [
    "len(liste_indien)"
   ]
  },
  {
   "cell_type": "code",
   "execution_count": 8,
   "metadata": {},
   "outputs": [
    {
     "data": {
      "text/plain": [
       "'Restaurant Indien La Vallée du Kashmir\\n21 Rue des Prêtres Place dalton 62200 Boulogne-sur-Mer\\nINDIEN\\nPrix moyen 18 €\\n8,9 /10\\n39 avis'"
      ]
     },
     "execution_count": 8,
     "metadata": {},
     "output_type": "execute_result"
    }
   ],
   "source": [
    "#1er test, prend le texte du l'lélement 0 de la liste\n",
    "liste_indien[19].text"
   ]
  },
  {
   "cell_type": "markdown",
   "metadata": {},
   "source": [
    "**Certains liens peuvent s'ouvrir sur de nouveaux onglets, ci-dessous les steps pour naviguer entre les onglets :**"
   ]
  },
  {
   "cell_type": "code",
   "execution_count": 217,
   "metadata": {},
   "outputs": [],
   "source": [
    "#cliquer sur le 1er element de la liste (index 0) qui va s'ouvrir sur un nouvel onglet\n",
    "liste_indien[0].click() "
   ]
  },
  {
   "cell_type": "code",
   "execution_count": 218,
   "metadata": {},
   "outputs": [],
   "source": [
    "#selectionne l'onglet grace l'index\n",
    "window_name = browser.window_handles[1] \n",
    "#switch vers l'onglet selectionné\n",
    "browser.switch_to.window(window_name=window_name)"
   ]
  },
  {
   "cell_type": "code",
   "execution_count": 219,
   "metadata": {},
   "outputs": [],
   "source": [
    "#ferme l'onglet actif\n",
    "browser.close()\n",
    "#revenir sur l'onglet initial d'index 0\n",
    "window_name = browser.window_handles[0] #je selectionne\n",
    "browser.switch_to.window(window_name=window_name) #je switch"
   ]
  },
  {
   "cell_type": "markdown",
   "metadata": {},
   "source": [
    "**Sinon il suffit de faire un back() pour revenir en arrière :**"
   ]
  },
  {
   "cell_type": "code",
   "execution_count": 220,
   "metadata": {},
   "outputs": [],
   "source": [
    "#browser.back()"
   ]
  },
  {
   "cell_type": "markdown",
   "metadata": {},
   "source": [
    "**Puis reprendre son taf**"
   ]
  },
  {
   "cell_type": "code",
   "execution_count": 221,
   "metadata": {},
   "outputs": [],
   "source": [
    "liste_indien = browser.find_elements_by_class_name('resultItem') #je re génère ma liste d'objet selenium"
   ]
  },
  {
   "cell_type": "code",
   "execution_count": 222,
   "metadata": {},
   "outputs": [],
   "source": [
    "liste_indien[0].click()"
   ]
  },
  {
   "cell_type": "code",
   "execution_count": 223,
   "metadata": {},
   "outputs": [],
   "source": [
    "window_name = browser.window_handles[1] #je selectionne\n",
    "browser.switch_to.window(window_name=window_name) #je switch"
   ]
  },
  {
   "cell_type": "code",
   "execution_count": 224,
   "metadata": {},
   "outputs": [
    {
     "data": {
      "text/plain": [
       "[]"
      ]
     },
     "execution_count": 224,
     "metadata": {},
     "output_type": "execute_result"
    }
   ],
   "source": [
    "# si l'info est donné, prendre le metro le plus proche \n",
    "#soit par copy xpath\n",
    "transport = [info.text for info in browser.find_elements_by_xpath('//*[@id=\"ocAccessInfo\"]/div/div[1]/ul')]\n",
    "transport   \n",
    "\n",
    "# ou par copy selector\n",
    "transport2 = [info.text for info in browser.find_elements_by_css_selector('#ocAccessInfo > div > div:nth-child(1) > ul')]\n",
    "transport2 "
   ]
  },
  {
   "cell_type": "code",
   "execution_count": 225,
   "metadata": {},
   "outputs": [],
   "source": [
    "#ferme l'onglet actif\n",
    "browser.close()\n",
    "#revenir sur l'onglet initial d'index 0\n",
    "window_name = browser.window_handles[0] #je selectionne\n",
    "browser.switch_to.window(window_name=window_name) #je switch"
   ]
  },
  {
   "cell_type": "code",
   "execution_count": 226,
   "metadata": {},
   "outputs": [],
   "source": [
    "liste_indien = browser.find_elements_by_class_name('resultItem') #je re génère ma liste d'objet selenium"
   ]
  },
  {
   "cell_type": "markdown",
   "metadata": {},
   "source": [
    "  **Construction de la boucle**                                                  "
   ]
  },
  {
   "cell_type": "code",
   "execution_count": 227,
   "metadata": {},
   "outputs": [],
   "source": [
    "#je génère la liste selenium\n",
    "liste_indien = browser.find_elements_by_class_name('resultItem')\n"
   ]
  },
  {
   "cell_type": "code",
   "execution_count": 228,
   "metadata": {},
   "outputs": [
    {
     "data": {
      "text/plain": [
       "'Délice indien\\n41 Avenue du Général de Gaulle 94160 Saint-Mandé\\nINDIEN\\nPrix moyen 20 €\\n-50% sur la carte *\\n8,9 /10\\n85 avis'"
      ]
     },
     "execution_count": 228,
     "metadata": {},
     "output_type": "execute_result"
    }
   ],
   "source": [
    "#prend le texte du l'lélement 0 de la liste\n",
    "liste_indien[1].text"
   ]
  },
  {
   "cell_type": "code",
   "execution_count": 229,
   "metadata": {},
   "outputs": [],
   "source": [
    "#cliquer sur le 1er element de la liste (index 0) qui va s'ouvrir sur un nouvel onglet\n",
    "liste_indien[1].click()"
   ]
  },
  {
   "cell_type": "code",
   "execution_count": 230,
   "metadata": {},
   "outputs": [],
   "source": [
    "#selectionne l'onglet grace l'index\n",
    "window_name = browser.window_handles[1] \n",
    "#switch vers l'onglet selectionné\n",
    "browser.switch_to.window(window_name=window_name)"
   ]
  },
  {
   "cell_type": "code",
   "execution_count": 231,
   "metadata": {},
   "outputs": [
    {
     "data": {
      "text/plain": [
       "[]"
      ]
     },
     "execution_count": 231,
     "metadata": {},
     "output_type": "execute_result"
    }
   ],
   "source": [
    "# si indiquer prendre le metro le plus proche\n",
    "transport = [info.text for info in browser.find_elements_by_xpath('//*[@id=\"ocAccessInfo\"]/div/div[1]/ul')]\n",
    "transport "
   ]
  },
  {
   "cell_type": "code",
   "execution_count": 232,
   "metadata": {},
   "outputs": [],
   "source": [
    "#ferme l'onglet actif\n",
    "browser.close()\n",
    "#revenir sur l'onglet initial d'index 0\n",
    "window_name = browser.window_handles[0] #je selectionne\n",
    "browser.switch_to.window(window_name=window_name) #je switch\n",
    "\n",
    "#je re génère ma liste d'objet selenium\n",
    "liste_indien = browser.find_elements_by_class_name('resultItem') "
   ]
  },
  {
   "cell_type": "code",
   "execution_count": null,
   "metadata": {},
   "outputs": [],
   "source": []
  },
  {
   "cell_type": "code",
   "execution_count": null,
   "metadata": {},
   "outputs": [],
   "source": []
  },
  {
   "cell_type": "code",
   "execution_count": 233,
   "metadata": {},
   "outputs": [],
   "source": [
    "#nom, adresse, genre, tarif, promo, note, nombre avis"
   ]
  },
  {
   "cell_type": "code",
   "execution_count": 234,
   "metadata": {},
   "outputs": [
    {
     "data": {
      "text/plain": [
       "['Curry Indien\\n30 Avenue Louis Bordes 93240 Stains\\nINDIEN\\nPrix moyen 15 €\\n-40% sur la carte *\\n9 /10\\n11 avis',\n",
       " 'Délice indien\\n41 Avenue du Général de Gaulle 94160 Saint-Mandé\\nINDIEN\\nPrix moyen 20 €\\n-50% sur la carte *\\n8,9 /10\\n85 avis',\n",
       " 'Le Petit Indien\\n5 Rue Pouchet 75017 Paris\\nINDIEN\\nPrix moyen 30 €\\n-50% sur la carte *\\n8,9 /10\\n156 avis',\n",
       " 'Rasna Restaurant Indien\\n214 Rue de la Croix Nivert 75015 Paris\\nINDIEN\\nPrix moyen 20 €\\n-50% sur la carte *\\n8,6 /10\\n370 avis',\n",
       " 'Indien\\n24 Place Parmentier 80000 Amiens\\nINDIEN\\nPrix moyen 25 €\\n-40% sur la carte *\\n8,6 /10\\n29 avis',\n",
       " 'Indien Palace\\n273 Avenue Carnot 78700 Conflans-Sainte-Honorine\\nINDIEN\\nPrix moyen 20 €\\n-30% sur la Carte *\\n8,9 /10\\n124 avis',\n",
       " \"Les Saveurs de l'Océan Indien\\n10 Rue du Béarn 31600 Eaunes\\nCUISINE DU MONDE\\nPrix moyen 20 €\\n9,3 /10\\n105 avis\",\n",
       " 'Royal Indien\\n4, rue de la Félicité 75017 Paris\\nINDIEN\\nPrix moyen 19 € • Yums acceptés\\n-40% sur la carte *\\n9,2 /10\\n3929 avis',\n",
       " 'Escale Indienne\\n105 Cours Berriat 38000 Grenoble\\nINDIEN\\nPrix moyen 20 € • Yums acceptés\\n9 /10\\n107 avis',\n",
       " 'Le Bistro Indien\\n7 Place Paul Claudel 78180 Montigny-le-Bretonneux\\nINDIEN\\nPrix moyen 20 €\\n-30% sur la carte *\\n8,4 /10\\n773 avis',\n",
       " 'Royal Indien\\n14 Rue du Lieutenant Loyer 51000 Châlons-en-Champagne\\nINDIEN\\nPrix moyen 20 €\\n-30% sur la carte *',\n",
       " 'Royal Indien\\n13 Rue Kervégan 44000 Nantes\\nINDIEN\\nPrix moyen 20 €\\n9,1 /10\\n660 avis',\n",
       " 'Restaurant Indien La Vallée du Kashmir\\n21 Rue des Prêtres Place dalton 62200 Boulogne-sur-Mer\\nINDIEN\\nPrix moyen 18 €\\n9,2 /10\\n36 avis',\n",
       " 'Kashmir Indien\\n19 Rue des Tonneliers 83150 Bandol\\nINDIEN\\nPrix moyen 21 €\\n8,8 /10\\n60 avis',\n",
       " 'Royal Indien\\n14, rue Lainerie 69005 Lyon\\nINDIEN\\nPrix moyen 22 €\\n9,3 /10\\n521 avis',\n",
       " 'Bollywood - Restaurant Indien\\n7 Rue de la Clavurerie 44000 Nantes\\nINDIEN\\nPrix moyen 20 €\\n-30% sur la carte *\\n6 /10\\n11 avis',\n",
       " 'Taj Indien\\n97 Avenue du Général de Gaulle 78600 Maisons-Laffitte\\nINDIEN\\nPrix moyen 30 €\\n8,5 /10\\n89 avis',\n",
       " 'La Villa Indienne\\n5 Avenue Fridingen 77100 Nanteuil-lès-Meaux\\nINDIEN\\nPrix moyen 15 €\\n-50% sur la carte *\\n8,7 /10\\n261 avis',\n",
       " \"Le Taj Indien Lyon\\n27 Rue de l'Arbre Sec 69001 Lyon\\nINDIEN\\nPrix moyen 25 €\\n-20% sur la carte *\\n9,2 /10\\n807 avis\",\n",
       " 'Le Casino Indien\\nAvenue de la Gare 10 1315 La Sarraz\\nINDIEN\\nPrix moyen 30,00 CHF']"
      ]
     },
     "execution_count": 234,
     "metadata": {},
     "output_type": "execute_result"
    }
   ],
   "source": [
    "liste_indien_lisible = [] \n",
    "for i in range(len(browser.find_elements_by_class_name('resultItem'))):\n",
    "        liste_indien_lisible.append(liste_indien[i].text)\n",
    "        #liste_indien[i].click()\n",
    "        #window_name = browser.window_handles[i] \n",
    "        #browser.switch_to.window(window_name=window_name)\n",
    "        #transport = [info.text for info in browser.find_elements_by_xpath('//*[@id=\"ocAccessInfo\"]/div/div[1]/ul')]\n",
    " \n",
    "\n",
    "        #print (liste_indien_lisible)\n",
    "liste_indien_lisible"
   ]
  },
  {
   "cell_type": "code",
   "execution_count": 235,
   "metadata": {},
   "outputs": [
    {
     "data": {
      "text/plain": [
       "20"
      ]
     },
     "execution_count": 235,
     "metadata": {},
     "output_type": "execute_result"
    }
   ],
   "source": [
    "len(liste_indien_lisible)"
   ]
  },
  {
   "cell_type": "code",
   "execution_count": 236,
   "metadata": {},
   "outputs": [
    {
     "data": {
      "text/html": [
       "<div>\n",
       "<style scoped>\n",
       "    .dataframe tbody tr th:only-of-type {\n",
       "        vertical-align: middle;\n",
       "    }\n",
       "\n",
       "    .dataframe tbody tr th {\n",
       "        vertical-align: top;\n",
       "    }\n",
       "\n",
       "    .dataframe thead th {\n",
       "        text-align: right;\n",
       "    }\n",
       "</style>\n",
       "<table border=\"1\" class=\"dataframe\">\n",
       "  <thead>\n",
       "    <tr style=\"text-align: right;\">\n",
       "      <th></th>\n",
       "      <th>tout les resto</th>\n",
       "    </tr>\n",
       "  </thead>\n",
       "  <tbody>\n",
       "    <tr>\n",
       "      <th>0</th>\n",
       "      <td>Curry Indien\\n30 Avenue Louis Bordes 93240 Sta...</td>\n",
       "    </tr>\n",
       "    <tr>\n",
       "      <th>1</th>\n",
       "      <td>Délice indien\\n41 Avenue du Général de Gaulle ...</td>\n",
       "    </tr>\n",
       "    <tr>\n",
       "      <th>2</th>\n",
       "      <td>Le Petit Indien\\n5 Rue Pouchet 75017 Paris\\nIN...</td>\n",
       "    </tr>\n",
       "    <tr>\n",
       "      <th>3</th>\n",
       "      <td>Rasna Restaurant Indien\\n214 Rue de la Croix N...</td>\n",
       "    </tr>\n",
       "    <tr>\n",
       "      <th>4</th>\n",
       "      <td>Indien\\n24 Place Parmentier 80000 Amiens\\nINDI...</td>\n",
       "    </tr>\n",
       "    <tr>\n",
       "      <th>5</th>\n",
       "      <td>Indien Palace\\n273 Avenue Carnot 78700 Conflan...</td>\n",
       "    </tr>\n",
       "    <tr>\n",
       "      <th>6</th>\n",
       "      <td>Les Saveurs de l'Océan Indien\\n10 Rue du Béarn...</td>\n",
       "    </tr>\n",
       "    <tr>\n",
       "      <th>7</th>\n",
       "      <td>Royal Indien\\n4, rue de la Félicité 75017 Pari...</td>\n",
       "    </tr>\n",
       "    <tr>\n",
       "      <th>8</th>\n",
       "      <td>Escale Indienne\\n105 Cours Berriat 38000 Greno...</td>\n",
       "    </tr>\n",
       "    <tr>\n",
       "      <th>9</th>\n",
       "      <td>Le Bistro Indien\\n7 Place Paul Claudel 78180 M...</td>\n",
       "    </tr>\n",
       "    <tr>\n",
       "      <th>10</th>\n",
       "      <td>Royal Indien\\n14 Rue du Lieutenant Loyer 51000...</td>\n",
       "    </tr>\n",
       "    <tr>\n",
       "      <th>11</th>\n",
       "      <td>Royal Indien\\n13 Rue Kervégan 44000 Nantes\\nIN...</td>\n",
       "    </tr>\n",
       "    <tr>\n",
       "      <th>12</th>\n",
       "      <td>Restaurant Indien La Vallée du Kashmir\\n21 Rue...</td>\n",
       "    </tr>\n",
       "    <tr>\n",
       "      <th>13</th>\n",
       "      <td>Kashmir Indien\\n19 Rue des Tonneliers 83150 Ba...</td>\n",
       "    </tr>\n",
       "    <tr>\n",
       "      <th>14</th>\n",
       "      <td>Royal Indien\\n14, rue Lainerie 69005 Lyon\\nIND...</td>\n",
       "    </tr>\n",
       "    <tr>\n",
       "      <th>15</th>\n",
       "      <td>Bollywood - Restaurant Indien\\n7 Rue de la Cla...</td>\n",
       "    </tr>\n",
       "    <tr>\n",
       "      <th>16</th>\n",
       "      <td>Taj Indien\\n97 Avenue du Général de Gaulle 786...</td>\n",
       "    </tr>\n",
       "    <tr>\n",
       "      <th>17</th>\n",
       "      <td>La Villa Indienne\\n5 Avenue Fridingen 77100 Na...</td>\n",
       "    </tr>\n",
       "    <tr>\n",
       "      <th>18</th>\n",
       "      <td>Le Taj Indien Lyon\\n27 Rue de l'Arbre Sec 6900...</td>\n",
       "    </tr>\n",
       "    <tr>\n",
       "      <th>19</th>\n",
       "      <td>Le Casino Indien\\nAvenue de la Gare 10 1315 La...</td>\n",
       "    </tr>\n",
       "  </tbody>\n",
       "</table>\n",
       "</div>"
      ],
      "text/plain": [
       "                                       tout les resto\n",
       "0   Curry Indien\\n30 Avenue Louis Bordes 93240 Sta...\n",
       "1   Délice indien\\n41 Avenue du Général de Gaulle ...\n",
       "2   Le Petit Indien\\n5 Rue Pouchet 75017 Paris\\nIN...\n",
       "3   Rasna Restaurant Indien\\n214 Rue de la Croix N...\n",
       "4   Indien\\n24 Place Parmentier 80000 Amiens\\nINDI...\n",
       "5   Indien Palace\\n273 Avenue Carnot 78700 Conflan...\n",
       "6   Les Saveurs de l'Océan Indien\\n10 Rue du Béarn...\n",
       "7   Royal Indien\\n4, rue de la Félicité 75017 Pari...\n",
       "8   Escale Indienne\\n105 Cours Berriat 38000 Greno...\n",
       "9   Le Bistro Indien\\n7 Place Paul Claudel 78180 M...\n",
       "10  Royal Indien\\n14 Rue du Lieutenant Loyer 51000...\n",
       "11  Royal Indien\\n13 Rue Kervégan 44000 Nantes\\nIN...\n",
       "12  Restaurant Indien La Vallée du Kashmir\\n21 Rue...\n",
       "13  Kashmir Indien\\n19 Rue des Tonneliers 83150 Ba...\n",
       "14  Royal Indien\\n14, rue Lainerie 69005 Lyon\\nIND...\n",
       "15  Bollywood - Restaurant Indien\\n7 Rue de la Cla...\n",
       "16  Taj Indien\\n97 Avenue du Général de Gaulle 786...\n",
       "17  La Villa Indienne\\n5 Avenue Fridingen 77100 Na...\n",
       "18  Le Taj Indien Lyon\\n27 Rue de l'Arbre Sec 6900...\n",
       "19  Le Casino Indien\\nAvenue de la Gare 10 1315 La..."
      ]
     },
     "execution_count": 236,
     "metadata": {},
     "output_type": "execute_result"
    }
   ],
   "source": [
    "import pandas as pd\n",
    "df = pd.DataFrame()\n",
    "df['tout les resto'] = liste_indien_lisible\n",
    "\n",
    "df"
   ]
  },
  {
   "cell_type": "code",
   "execution_count": 237,
   "metadata": {},
   "outputs": [],
   "source": [
    "#import csv\n",
    "#with open('passwd.csv', 'w', newline='') as f:\n",
    "        #writer = csv.writer(f)\n",
    "        #for x in l:\n",
    "            #writer.writerow(x)"
   ]
  },
  {
   "cell_type": "code",
   "execution_count": null,
   "metadata": {},
   "outputs": [],
   "source": []
  },
  {
   "cell_type": "code",
   "execution_count": null,
   "metadata": {},
   "outputs": [],
   "source": []
  },
  {
   "cell_type": "code",
   "execution_count": null,
   "metadata": {},
   "outputs": [],
   "source": []
  },
  {
   "cell_type": "code",
   "execution_count": null,
   "metadata": {},
   "outputs": [],
   "source": []
  },
  {
   "cell_type": "code",
   "execution_count": null,
   "metadata": {},
   "outputs": [],
   "source": []
  },
  {
   "cell_type": "code",
   "execution_count": null,
   "metadata": {},
   "outputs": [],
   "source": []
  },
  {
   "cell_type": "code",
   "execution_count": null,
   "metadata": {},
   "outputs": [],
   "source": []
  },
  {
   "cell_type": "code",
   "execution_count": 238,
   "metadata": {},
   "outputs": [],
   "source": [
    "#window_name = browser.window_handles[1] #je selectionne\n",
    "#browser.switch_to.window(window_name=window_name) #je switch\n",
    "#browser.close() #je ferme\n",
    "\n",
    "#window_name = browser.window_handles[0] #je selectionne\n",
    "#browser.switch_to.window(window_name=window_name) #je switch\n",
    "#liste_indien = browser.find_elements_by_class_name('resultItem') #je re génère ma liste d'objet selenium\n",
    "#liste_indien[3].text\n",
    "#liste_indien[0].click() "
   ]
  },
  {
   "cell_type": "markdown",
   "metadata": {},
   "source": [
    "**Pour Quitter la fenêtre de navigation :**"
   ]
  },
  {
   "cell_type": "code",
   "execution_count": 110,
   "metadata": {},
   "outputs": [],
   "source": [
    "browser.quit()\n"
   ]
  },
  {
   "cell_type": "code",
   "execution_count": null,
   "metadata": {},
   "outputs": [],
   "source": []
  },
  {
   "cell_type": "code",
   "execution_count": null,
   "metadata": {},
   "outputs": [],
   "source": []
  },
  {
   "cell_type": "markdown",
   "metadata": {},
   "source": [
    "## BROUILLON"
   ]
  },
  {
   "cell_type": "code",
   "execution_count": 240,
   "metadata": {},
   "outputs": [],
   "source": [
    "#google = webdriver.Chrome()\n",
    "#google.get('http://www.google.com')\n"
   ]
  },
  {
   "cell_type": "code",
   "execution_count": 241,
   "metadata": {},
   "outputs": [],
   "source": [
    "#google.find_element_by_tag_name('body').send_keys(Keys.CONTROL + 't')\n",
    "#google.get('https://www.yahoo.com')"
   ]
  },
  {
   "cell_type": "code",
   "execution_count": 242,
   "metadata": {},
   "outputs": [],
   "source": [
    "#google.close()"
   ]
  },
  {
   "cell_type": "code",
   "execution_count": null,
   "metadata": {},
   "outputs": [],
   "source": []
  },
  {
   "cell_type": "code",
   "execution_count": 243,
   "metadata": {},
   "outputs": [],
   "source": [
    "#window_name = google.window_handles[1]\n"
   ]
  },
  {
   "cell_type": "code",
   "execution_count": 244,
   "metadata": {},
   "outputs": [],
   "source": [
    "#google.switch_to.window(window_name=window_name)\n"
   ]
  },
  {
   "cell_type": "code",
   "execution_count": 245,
   "metadata": {},
   "outputs": [],
   "source": [
    "#google.close()\n"
   ]
  },
  {
   "cell_type": "code",
   "execution_count": 246,
   "metadata": {},
   "outputs": [],
   "source": [
    "#liste = [1,2,3,4,5,6,7,8,9]\n",
    "#liste[1::]"
   ]
  },
  {
   "cell_type": "code",
   "execution_count": null,
   "metadata": {},
   "outputs": [],
   "source": []
  },
  {
   "cell_type": "code",
   "execution_count": 247,
   "metadata": {},
   "outputs": [],
   "source": [
    "#click= image.click()\n",
    "\n",
    "        #window_name=browser.window_handles[1] # selectionner le nouvel onglet qui vient de s'ouvrir\n",
    "        #time.sleep(0.1)\n",
    "        #browser.switch_to.window(window_name=window_name) # switcher le browser sur ce nouvel onglet\n",
    "        #time.sleep(2)\n",
    "#browser.close() # fermer le nouvel onglet actif\n",
    "        #window_name=browser.window_handles[0] # selectionner le nouvel onglet qui vient de s'ouvrir\n",
    "        #time.sleep(0.1)\n",
    "        #browser.switch_to.window(window_name=window_name)"
   ]
  }
 ],
 "metadata": {
  "kernelspec": {
   "display_name": "Python 3",
   "language": "python",
   "name": "python3"
  },
  "language_info": {
   "codemirror_mode": {
    "name": "ipython",
    "version": 3
   },
   "file_extension": ".py",
   "mimetype": "text/x-python",
   "name": "python",
   "nbconvert_exporter": "python",
   "pygments_lexer": "ipython3",
   "version": "3.7.3"
  }
 },
 "nbformat": 4,
 "nbformat_minor": 2
}
